{
 "cells": [
  {
   "cell_type": "code",
   "execution_count": 1,
   "metadata": {},
   "outputs": [],
   "source": [
    "from selenium import webdriver\n",
    "import time\n",
    "from selenium.common.exceptions import NoSuchElementException\n",
    "from selenium.webdriver.common.action_chains import ActionChains\n",
    "from selenium.webdriver.common.keys import Keys\n",
    "import numpy as np\n",
    "import pandas as pd\n"
   ]
  },
  {
   "cell_type": "code",
   "execution_count": null,
   "metadata": {
    "scrolled": true
   },
   "outputs": [],
   "source": [
    "options = webdriver.ChromeOptions()\n",
    "options.add_argument('--ignore-certificate-errors')\n",
    "options.add_argument('--ignore-ssl-errors')\n",
    "options.add_argument(\"--start-maximized\")\n",
    "\n",
    "with webdriver.Chrome(options=options) as browser:\n",
    "    data = pd.DataFrame(columns=['Date', 'Close/Last', 'Volume', 'Open', 'High', 'Low', 'Company'])\n",
    "    urls = ['https://www.nasdaq.com/market-activity/stocks/googl/historical',\n",
    "            'https://www.nasdaq.com/market-activity/stocks/aapl/historical',\n",
    "            'https://www.nasdaq.com/market-activity/stocks/amzn/historical',\n",
    "            'https://www.nasdaq.com/market-activity/stocks/fb/historical',\n",
    "            'https://www.nasdaq.com/market-activity/stocks/tsla/historical',\n",
    "            'https://www.nasdaq.com/market-activity/stocks/msft/historical'\n",
    "            ]\n",
    "    companies = ['Alphabet', 'Apple', 'Amazon', 'Facebook', 'Tesla', 'Microsoft']\n",
    "    for index in range(len(urls)):\n",
    "        browser.get(urls[index])\n",
    "        # browser.get(urls[i])\n",
    "        time.sleep(4)\n",
    "        try:\n",
    "            close = browser.find_element_by_id('_evh-ric-c')\n",
    "            ActionChains(browser).click(close).perform()\n",
    "        except NoSuchElementException:\n",
    "            pass\n",
    "        expand = browser.find_element_by_xpath('//button[text()=\"MAX\"]')\n",
    "        ActionChains(browser).click(expand).perform()\n",
    "        browser.execute_script(\"window.scrollTo(0, 450)\")\n",
    "        i = 0\n",
    "        while i < 70:\n",
    "            rows = browser.find_elements_by_class_name('historical-data__row')\n",
    "            for row in rows:\n",
    "                row_data = row.text.split(' ')\n",
    "                row_data.append(companies[index])\n",
    "                data.loc[len(data), :] = row_data\n",
    "            print(data)\n",
    "\n",
    "            next_button = browser.find_element_by_class_name('pagination__next')\n",
    "            ActionChains(browser).click(next_button).perform()\n",
    "            time.sleep(30)\n",
    "            i += 1\n",
    "\n",
    "    data.to_csv('stock_data.csv', sep='\\t', index=False)"
   ]
  },
  {
   "cell_type": "code",
   "execution_count": 6,
   "metadata": {},
   "outputs": [],
   "source": [
    "test = pd.read_csv('stock_data.csv', sep='\\t')"
   ]
  },
  {
   "cell_type": "code",
   "execution_count": 19,
   "metadata": {},
   "outputs": [
    {
     "data": {
      "text/html": [
       "<div>\n",
       "<style scoped>\n",
       "    .dataframe tbody tr th:only-of-type {\n",
       "        vertical-align: middle;\n",
       "    }\n",
       "\n",
       "    .dataframe tbody tr th {\n",
       "        vertical-align: top;\n",
       "    }\n",
       "\n",
       "    .dataframe thead th {\n",
       "        text-align: right;\n",
       "    }\n",
       "</style>\n",
       "<table border=\"1\" class=\"dataframe\">\n",
       "  <thead>\n",
       "    <tr style=\"text-align: right;\">\n",
       "      <th></th>\n",
       "      <th>Close/Last</th>\n",
       "    </tr>\n",
       "  </thead>\n",
       "  <tbody>\n",
       "    <tr>\n",
       "      <th>6293</th>\n",
       "      <td>$214.2</td>\n",
       "    </tr>\n",
       "    <tr>\n",
       "      <th>6294</th>\n",
       "      <td>$213.26</td>\n",
       "    </tr>\n",
       "    <tr>\n",
       "      <th>6295</th>\n",
       "      <td>$210.52</td>\n",
       "    </tr>\n",
       "    <tr>\n",
       "      <th>6296</th>\n",
       "      <td>$211.8</td>\n",
       "    </tr>\n",
       "    <tr>\n",
       "      <th>6297</th>\n",
       "      <td>$216.01</td>\n",
       "    </tr>\n",
       "    <tr>\n",
       "      <th>...</th>\n",
       "      <td>...</td>\n",
       "    </tr>\n",
       "    <tr>\n",
       "      <th>7546</th>\n",
       "      <td>$55.35</td>\n",
       "    </tr>\n",
       "    <tr>\n",
       "      <th>7547</th>\n",
       "      <td>$54.83</td>\n",
       "    </tr>\n",
       "    <tr>\n",
       "      <th>7548</th>\n",
       "      <td>$54.13</td>\n",
       "    </tr>\n",
       "    <tr>\n",
       "      <th>7549</th>\n",
       "      <td>$55.7</td>\n",
       "    </tr>\n",
       "    <tr>\n",
       "      <th>7550</th>\n",
       "      <td>$56.13</td>\n",
       "    </tr>\n",
       "  </tbody>\n",
       "</table>\n",
       "<p>1258 rows × 1 columns</p>\n",
       "</div>"
      ],
      "text/plain": [
       "      Close/Last\n",
       "6293      $214.2\n",
       "6294     $213.26\n",
       "6295     $210.52\n",
       "6296      $211.8\n",
       "6297     $216.01\n",
       "...          ...\n",
       "7546      $55.35\n",
       "7547      $54.83\n",
       "7548      $54.13\n",
       "7549       $55.7\n",
       "7550      $56.13\n",
       "\n",
       "[1258 rows x 1 columns]"
      ]
     },
     "execution_count": 19,
     "metadata": {},
     "output_type": "execute_result"
    }
   ],
   "source": [
    "MS = test[test['Company'] == 'Microsoft']\n",
    "MS_close = MS.iloc[:, [1]].apply(lambda x: x[1:])\n",
    "MS_close"
   ]
  }
 ],
 "metadata": {
  "kernelspec": {
   "display_name": "Python 3",
   "language": "python",
   "name": "python3"
  },
  "language_info": {
   "codemirror_mode": {
    "name": "ipython",
    "version": 3
   },
   "file_extension": ".py",
   "mimetype": "text/x-python",
   "name": "python",
   "nbconvert_exporter": "python",
   "pygments_lexer": "ipython3",
   "version": "3.8.3"
  }
 },
 "nbformat": 4,
 "nbformat_minor": 4
}
