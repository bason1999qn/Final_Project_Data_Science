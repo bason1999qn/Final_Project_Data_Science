{
 "cells": [
  {
   "cell_type": "code",
   "execution_count": null,
   "metadata": {},
   "outputs": [],
   "source": [
    "from selenium import webdriver\n",
    "import time\n",
    "from selenium.common.exceptions import NoSuchElementException\n",
    "from selenium.webdriver.common.action_chains import ActionChains\n",
    "from selenium.webdriver.common.keys import Keys\n",
    "import numpy as np\n",
    "import pandas as pd\n"
   ]
  },
  {
   "cell_type": "code",
   "execution_count": null,
   "metadata": {},
   "outputs": [],
   "source": [
    "options = webdriver.ChromeOptions()\n",
    "options.add_argument('--ignore-certificate-errors')\n",
    "options.add_argument('--ignore-ssl-errors')\n",
    "options.add_argument(\"--start-maximized\")\n",
    "\n",
    "with webdriver.Chrome(options=options) as browser:\n",
    "    df = pd.DataFrame(columns=['No', 'Date', 'Open', 'High', 'Low', 'Close', 'Change Percent', 'Change Value', 'Volume', 'Company'])\n",
    "\n",
    "    urls = ['https://stooq.com/q/d/?s=googl.us&i=d&l=',\n",
    "            'https://stooq.com/q/d/?s=aapl.us&i=d&l=',\n",
    "            'https://stooq.com/q/d/?s=amzn.us&i=d&l=',\n",
    "            'https://stooq.com/q/d/?s=fb.us&i=d&l=',\n",
    "            'https://stooq.com/q/d/?s=tsla.us&i=d&l=',\n",
    "            'https://stooq.com/q/d/?s=msft.us&i=d&l='\n",
    "            ]\n",
    "    companies = ['Alphabet', 'Apple', 'Amazon', 'Facebook', 'Tesla', 'Microsoft']\n",
    "    for index in range(len(urls)):\n",
    "        for i in range(3):\n",
    "            browser.get(urls[index] + str(i + 1))\n",
    "            time.sleep(3)\n",
    "            browser.execute_script(\"window.scrollTo(0, document.body.scrollHeight)\")\n",
    "            data = browser.find_element_by_id('fth1')\n",
    "            rows = data.text.split('\\n')\n",
    "            for row in rows[1:]:\n",
    "                row_data = row.split(' ')\n",
    "                if len(row_data) == 11:\n",
    "                    row_data.append(companies[index])\n",
    "                    row_data[1:4] = [' '.join(row_data[1:4])]\n",
    "                    df.loc[len(df), :] = row_data\n",
    "            print(df)\n",
    "\n",
    "    df.to_csv('stock_data.csv', sep='\\t')"
   ]
  }
 ],
 "metadata": {
  "kernelspec": {
   "display_name": "Python 3",
   "language": "python",
   "name": "python3"
  },
  "language_info": {
   "codemirror_mode": {
    "name": "ipython",
    "version": 3
   },
   "file_extension": ".py",
   "mimetype": "text/x-python",
   "name": "python",
   "nbconvert_exporter": "python",
   "pygments_lexer": "ipython3",
   "version": "3.8.3"
  }
 },
 "nbformat": 4,
 "nbformat_minor": 4
}
