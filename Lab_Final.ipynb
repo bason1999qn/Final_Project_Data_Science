{
 "cells": [
  {
   "cell_type": "markdown",
   "metadata": {},
   "source": [
    "\n",
    "<font size=\"5\">**<center> ĐỒ ÁN CUỐI KỲ </center>** </font>\n",
    "\n",
    "<font size=\"4\">**<center> KHOA HỌC DỮ LIỆU</center>** </font>"
   ]
  },
  {
   "cell_type": "markdown",
   "metadata": {},
   "source": [
    "# I/ Thông tin nhóm:\n",
    "\n",
    "| STT |       Tên       |   MSSV  |\n",
    "|-----|:---------------:|--------:|\n",
    "|  1  |   Thái Bá Sơn   | 1712732 |\n",
    "|  2  | Huỳnh Công Sinh | 1712724 |"
   ]
  },
  {
   "cell_type": "markdown",
   "metadata": {},
   "source": [
    "# II/ Khai thác dữ liệu:"
   ]
  },
  {
   "cell_type": "code",
   "execution_count": null,
   "metadata": {},
   "outputs": [],
   "source": [
    "# from selenium import webdriver\n",
    "import time\n",
    "# from selenium.common.exceptions import NoSuchElementException\n",
    "# from selenium.webdriver.common.action_chains import ActionChains\n",
    "# from selenium.webdriver.common.keys import Keys\n",
    "import numpy as np\n",
    "import pandas as pd\n",
    "pd.options.mode.chained_assignment = None"
   ]
  },
  {
   "cell_type": "markdown",
   "metadata": {},
   "source": [
    "Dữ liệu khai thác: [tại đây](https://www.nasdaq.com/) \n",
    "\n",
    "Cấu trúc câu lệnh khai thác: 'https://www.nasdaq.com/market-activity/stocks/' + 'stock_code' + '/historical'\n"
   ]
  },
  {
   "cell_type": "raw",
   "metadata": {},
   "source": [
    "options = webdriver.ChromeOptions()\n",
    "options.add_argument('--ignore-certificate-errors')\n",
    "options.add_argument('--ignore-ssl-errors')\n",
    "options.add_argument(\"--start-maximized\")\n",
    "\n",
    "with webdriver.Chrome(options=options) as browser:\n",
    "    data = pd.DataFrame(columns=['Date', 'Close/Last', 'Volume', 'Open', 'High', 'Low', 'Company'])\n",
    "    urls = ['https://www.nasdaq.com/market-activity/stocks/googl/historical',\n",
    "            'https://www.nasdaq.com/market-activity/stocks/aapl/historical',\n",
    "            'https://www.nasdaq.com/market-activity/stocks/amzn/historical',\n",
    "            'https://www.nasdaq.com/market-activity/stocks/fb/historical',\n",
    "            'https://www.nasdaq.com/market-activity/stocks/tsla/historical',\n",
    "            'https://www.nasdaq.com/market-activity/stocks/msft/historical'\n",
    "            ]\n",
    "    companies = ['Alphabet', 'Apple', 'Amazon', 'Facebook', 'Tesla', 'Microsoft']\n",
    "    for index in range(len(urls)):\n",
    "        browser.get(urls[index])\n",
    "        # browser.get(urls[i])\n",
    "        time.sleep(4)\n",
    "        try:\n",
    "            close = browser.find_element_by_id('_evh-ric-c')\n",
    "            ActionChains(browser).click(close).perform()\n",
    "        except NoSuchElementException:\n",
    "            pass\n",
    "        expand = browser.find_element_by_xpath('//button[text()=\"MAX\"]')\n",
    "        ActionChains(browser).click(expand).perform()\n",
    "        browser.execute_script(\"window.scrollTo(0, 450)\")\n",
    "        i = 0\n",
    "        while i < 140:\n",
    "            rows = browser.find_elements_by_class_name('historical-data__row')\n",
    "            for row in rows:\n",
    "                row_data = row.text.split(' ')\n",
    "                row_data.append(companies[index])\n",
    "                data.loc[len(data), :] = row_data\n",
    "            print(data)\n",
    "\n",
    "            next_button = browser.find_element_by_class_name('pagination__next')\n",
    "            ActionChains(browser).click(next_button).perform()\n",
    "            time.sleep(5)\n",
    "            i += 1\n",
    "\n",
    "#     data.to_csv('stock_data.csv', sep='\\t', index=False)"
   ]
  },
  {
   "cell_type": "markdown",
   "metadata": {},
   "source": [
    "# I/ Dữ liệu"
   ]
  },
  {
   "cell_type": "markdown",
   "metadata": {},
   "source": [
    "### Thông tin về dữ liệu:\n"
   ]
  },
  {
   "cell_type": "markdown",
   "metadata": {},
   "source": [
    "Trong sổ tay này, chúng ta sẽ xem xét dữ liệu từ thị trường chứng khoán, đặc biệt là một số cổ phiếu công nghệ. Sử dụng pandas để lấy thông tin cổ phiếu, hình dung các khía cạnh khác nhau của nó và cuối cùng ta sẽ xem xét một số cách phân tích rủi ro của cổ phiếu, dựa trên lịch sử hoạt động trước đó của nó. Chúng tôi cũng sẽ dự đoán giá cổ phiếu trong tương lai thông qua phương pháp Long Short Term Memory (LSTM)! \n",
    "\n",
    "**Nguồn: [tại đây](https://www.nasdaq.com/)**"
   ]
  },
  {
   "cell_type": "markdown",
   "metadata": {},
   "source": [
    "---"
   ]
  },
  {
   "cell_type": "markdown",
   "metadata": {},
   "source": [
    "# II/ Khám phá dữ liệu:"
   ]
  },
  {
   "cell_type": "markdown",
   "metadata": {},
   "source": [
    "### Import"
   ]
  },
  {
   "cell_type": "code",
   "execution_count": null,
   "metadata": {},
   "outputs": [],
   "source": [
    "import matplotlib.pyplot as plt\n",
    "import matplotlib.colors\n",
    "import seaborn as sns\n",
    "import pandas as pd\n",
    "import numpy as np\n",
    "import tensorflow\n",
    "from sklearn.model_selection import train_test_split\n",
    "from sklearn.linear_model import LinearRegression\n",
    "from sklearn.metrics import mean_squared_error\n",
    "from sklearn.preprocessing import MinMaxScaler\n",
    "from keras.models import Sequential\n",
    "from keras.layers import Dense, LSTM\n",
    "\n",
    "\n",
    "sns.set_style('whitegrid')\n",
    "plt.style.use(\"fivethirtyeight\")\n",
    "%matplotlib inline"
   ]
  },
  {
   "cell_type": "markdown",
   "metadata": {},
   "source": [
    "### 2.1 Đọc dữ liệu từ file csv vào dataframe"
   ]
  },
  {
   "cell_type": "code",
   "execution_count": null,
   "metadata": {},
   "outputs": [],
   "source": [
    "df = pd.read_csv(\"stock_data.csv\", sep = '\\t')\n",
    "df.head()"
   ]
  },
  {
   "cell_type": "markdown",
   "metadata": {},
   "source": [
    "### 2.2 Thông tin thuộc tính:"
   ]
  },
  {
   "cell_type": "code",
   "execution_count": null,
   "metadata": {},
   "outputs": [],
   "source": [
    "#xem thông tin data:\n",
    "df.info()\n",
    "\n",
    "num_rows, num_cols = df.shape\n",
    "print(\"Dữ liệu có {} dòng, {} cột.\".format(num_rows, num_cols))"
   ]
  },
  {
   "cell_type": "markdown",
   "metadata": {},
   "source": [
    "Trước khi đi vào phân tích, ta cần hiểu về một số khái niệm trong chứng khoáng: Thị trường chứng khoáng có thể phân làm 2 loại cơ bản là **thị trường cổ phiếu (Stock market)** và **thị trường trái phiếu (bond market)**. Trong đồ án này, ta chỉ khai thác và phân tích về thị trường cổ phiếu. \n",
    "\n",
    "Thông tin thuộc tính:\n",
    "- **Date**: Thời gian (theo ngày) của dữ liệu cổ phiếu.\n",
    "- **Colse/Last**: Đây là mức giá cuối cùng mà chứng khoán được giao dịch trong một thời kỳ. Do tính lợi ích của nó, mức giá Close là một trường được thường xuyên sử dụng nhất để phân tích. Các kỹ thuật viên cho rằng mối quan hệ giữa mức giá Open (Mức giá đầu tiên) và mức giá Close (Mức giá cuối cùng) rất có ý nghĩa. Mối quan hệ đó được nhấn mạnh trong biểu đồ giá đỡ nến (candlestick chart).\n",
    "- **Volume**: Đây là số lượng cổ phiếu (hoặc hợp đồng)được giao dịch trong một ngày. Mối quan hệ giữa giá và khối lượng (ví dụ: tăng giá đi cùng với tăng khối lượng) rất quan trọng.\n",
    "- **Open**: Đây là mức giá của lần giao dịch đầu tiên trong một thời kỳ (ví dụ: lần giao dịch đầu tiên trong ngày). Khi phân tích các dữ liệu hàng ngày giá Open đặc biệt quan trọng vì nó là mức giá nhất trí sau khi tất cả các bên quan tâm có thể “gác nó đến hôm sau”.\n",
    "- **High**: Đây là mức giá cao nhất mà chứng khoán được giao dịch trong một thời kỳ. Đó là thời điểm mà tại đó có nhiều người bán hơn người mua (tức là: luôn có người bán sẵn sàng bán ở mức giá cao hơn, nhưng mức giá High miêu tả mức giá cao nhất mà người mua sẵn sàng trả tiền).\n",
    "- **Low**: Đây là mức giá thấp nhất mà chứng khoán được giao dịch trong một giai đoạn. Đó là thời điểm mà tại đó có nhiều người mua hơn người bán (tức là: luôn có người mua sẵn sàng mua ở mức giá thấp hơn, nhưng mức giá Low miêu tả mức giá thấp nhất mà người bán sẵn sàng chấp nhận bán).\n",
    "- **Company**: Tên công ty ứng với mã cổ phiếu.\n",
    "\n",
    "Chi tiết tham khảo: [tại đây](https://hotroontap.com/phan-tich-ky-thuat-bang-bieu-do-chung-khoan/)"
   ]
  },
  {
   "cell_type": "markdown",
   "metadata": {},
   "source": [
    "---"
   ]
  },
  {
   "cell_type": "markdown",
   "metadata": {},
   "source": [
    "## 2.3 Tiền xử lý:"
   ]
  },
  {
   "cell_type": "markdown",
   "metadata": {},
   "source": [
    "- Kiểm tra dữ thông tin dữ liệu: kiểu dữ liệu của các thuộc tính, các cột có bị thiếu giá trị hay không?..."
   ]
  },
  {
   "cell_type": "code",
   "execution_count": null,
   "metadata": {},
   "outputs": [],
   "source": [
    "#xem thông tin data:\n",
    "df.info()\n",
    "\n",
    "if df.isnull().values.any() == False:\n",
    "    print(\"=> Không có ô giá trị nào bị thiếu.\")\n",
    "else:\n",
    "    print(\"Dữ liệu bị thiếu.\")"
   ]
  },
  {
   "cell_type": "markdown",
   "metadata": {},
   "source": [
    "- Định dạng lại kiểu dữ liệu cho phù hợp."
   ]
  },
  {
   "cell_type": "code",
   "execution_count": null,
   "metadata": {},
   "outputs": [],
   "source": [
    "df_pre = df.copy()\n",
    "#Định dạng lại cột Date sang kiểu dữ liệu datetime\n",
    "df_pre[\"Date\"] = pd.to_datetime(df_pre[\"Date\"])\n",
    "\n",
    "#Xóa khoảng trắng trong dữ liệu:\n",
    "df_pre.columns = df_pre.columns.str.replace(' ', '') \n",
    "df_pre.replace(' ', '', regex=True, inplace = True)\n",
    "\n",
    "#Đổi tên cột để tiện thao tác\n",
    "df_pre.rename(columns = {'Close/Last':'Close'}, inplace = True)\n",
    "\n",
    "#Chuyển cột có ký hiệu tiền tệ ($) sang dạng datetime:\n",
    "df_pre['Close'] = df_pre['Close'].str.replace('$', '').astype(float)\n",
    "df_pre['Open'] = df_pre['Open'].str.replace('$', '').astype(float)\n",
    "df_pre['High'] = df_pre['High'].str.replace('$', '').astype(float)\n",
    "df_pre['Low'] = df_pre['Low'].str.replace('$', '').astype(float)\n",
    "\n",
    "#Sắp xếp cổ phiếu tăng dần theo ngày:\n",
    "df_pre.sort_values(['Company', 'Date'], ascending=[True, True], inplace = True)\n",
    "\n",
    "#Lấy tên tất cả công ty trong dữ liệu:\n",
    "company_name = list(df_pre[\"Company\"].unique())"
   ]
  },
  {
   "cell_type": "markdown",
   "metadata": {},
   "source": [
    "- Kiểm tra tính liên tục của cột dữ liệu ngày, xem có bị thiếu hụt giá trị hay không:"
   ]
  },
  {
   "cell_type": "code",
   "execution_count": null,
   "metadata": {},
   "outputs": [],
   "source": [
    "mising_date = pd.date_range(start = df_pre.Date.min(), end = df_pre.Date.max(), freq = 'D').difference(df_pre.Date)\n",
    "print(\"Có {} ngày bị thiếu trong bộ dữ liệu.\".format(len(mising_date)))"
   ]
  },
  {
   "cell_type": "markdown",
   "metadata": {},
   "source": [
    "-> Do đó ta cần bổ sung phần dữ liệu bị thiếu bằng phương pháp tính trung bình giá trị không thiếu gần nhất ở trước và sau:"
   ]
  },
  {
   "cell_type": "code",
   "execution_count": null,
   "metadata": {},
   "outputs": [],
   "source": [
    "data = pd.DataFrame(columns=df_pre.columns)\n",
    "companies = df_pre.loc[:, 'Company'].unique()\n",
    "for company in companies:\n",
    "    one_company_df = df_pre.loc[df_pre.loc[:, 'Company'] == company]\n",
    "    one_company_df.loc[:, 'Date'] = pd.to_datetime(one_company_df.loc[:, 'Date'])\n",
    "    one_company_df = one_company_df.sort_values(by=['Date'], ascending=True)\n",
    "    one_company_df.set_index('Date', inplace=True)\n",
    "\n",
    "    r = pd.date_range(start=one_company_df.index.min(), end=one_company_df.index.max())\n",
    "    one_company_df.index = pd.DatetimeIndex(one_company_df.index)\n",
    "    one_company_df = one_company_df.reindex(r, fill_value=0)\n",
    "    one_company_df = one_company_df.reset_index().rename(columns={'index': 'Date'})\n",
    "    one_company_df = one_company_df.sort_values(by=['Date'], ascending=False).reset_index()\n",
    "    one_company_df.loc[:, 'Company'] = company\n",
    "    column_lists = ['Close', 'Volume', 'Open', 'High', 'Low']\n",
    "    for column in column_lists:\n",
    "        temp = one_company_df.loc[:, column]\n",
    "        prev = 0\n",
    "        nxt = 0\n",
    "        i = 0\n",
    "        while i < len(temp):\n",
    "            if temp.iloc[i] != 0:\n",
    "                prev = temp[i]\n",
    "                i += 1\n",
    "            else:\n",
    "                for j in range(i, len(temp)):\n",
    "                    if temp.iloc[j] != 0:\n",
    "                        nxt = temp.iloc[j]\n",
    "                        temp.iloc[i:j] = (prev + nxt) / 2\n",
    "                        i = j\n",
    "                        break\n",
    "        one_company_df.loc[:, column] = temp\n",
    "    data = data.append(one_company_df)\n",
    "\n",
    "data = data.reset_index().drop(columns=['level_0', 'index'])\n",
    "data = data.set_index('Date')"
   ]
  },
  {
   "cell_type": "markdown",
   "metadata": {},
   "source": [
    "- Dữ liệu sau khi tiền xử lý:"
   ]
  },
  {
   "cell_type": "code",
   "execution_count": null,
   "metadata": {},
   "outputs": [],
   "source": [
    "data.info()\n",
    "data.head()"
   ]
  },
  {
   "cell_type": "code",
   "execution_count": null,
   "metadata": {
    "scrolled": true
   },
   "outputs": [],
   "source": [
    "# Summary Stats\n",
    "data.describe()"
   ]
  },
  {
   "cell_type": "markdown",
   "metadata": {},
   "source": [
    "---\n",
    "# III/ Đặt câu hỏi:\n",
    "- 1. Lợi tức hàng ngày của cổ phiếu trung bình là bao nhiêu?\n",
    "\n",
    "- 2. Chúng ta phải chịu rủi ro bao nhiêu khi đầu tư vào một cổ phiếu cụ thể?\n",
    "\n",
    "- 3. Tác động của đại dịch Covid-19 đến tình hình kinh tế của các công ty?\n",
    "\n",
    "- 4. \n",
    "\n",
    "- 5. \n"
   ]
  },
  {
   "cell_type": "markdown",
   "metadata": {},
   "source": [
    "---"
   ]
  },
  {
   "cell_type": "markdown",
   "metadata": {},
   "source": [
    "# IV/ Tìm câu trả lời:"
   ]
  },
  {
   "cell_type": "markdown",
   "metadata": {},
   "source": [
    "1. **<font color=red>Tác động của đại dịch Covid-19 đến tình hình kinh tế của các công ty? </font>**"
   ]
  },
  {
   "cell_type": "markdown",
   "metadata": {},
   "source": [
    "- Đầu tiên cần thực hiện bước tiền xử lý nhằm lấy ra dữ liệu của 1 khoảng thời gian trong tập:"
   ]
  },
  {
   "cell_type": "code",
   "execution_count": null,
   "metadata": {},
   "outputs": [],
   "source": [
    "def get_records_in_time_period(df, start_date, end_date, company_name=None):\n",
    "    '''\n",
    "    Hàm get_records_in_time_period sẽ lấy các records của công ty trong một khoảng thời gian từ một dataframe\n",
    "    Tham số df: dataframe nguồn chứa các records.\n",
    "    Tham số start_date: mốc thời gian bắt đầu.\n",
    "    Tham số end_date: mốc thời gian kết thúc.\n",
    "    Tham số company_name: tên công ty cần lấy record, mặc định None sẽ lấy toàn bộ.\n",
    "    Output: một dataframe chứa các records với tất cả các cột dữ liệu.\n",
    "    '''\n",
    "    # nếu không truyền vào tên công ty, mặc định sẽ lấy toàn bộ các công ty trong khoảng thời gian\n",
    "    if company_name is None:\n",
    "        return df.loc[(df.index >= start_date) & (df.index <= end_date)]\n",
    "    # ngược lại, nếu có tham số tên công ty được truyền vào, chỉ lấy các dòng của công ty đó\n",
    "    else:\n",
    "        company_df = df[df['Company'] == company_name]\n",
    "        time_period_filter = (company_df.index >= start_date) & (company_df.index <= end_date)\n",
    "        return company_df.loc[time_period_filter]"
   ]
  },
  {
   "cell_type": "markdown",
   "metadata": {},
   "source": [
    "- Hiển thị biểu đồ đường giá Close của cổ phiếu trong giai đoạn đầu năm 2020 đến nay:"
   ]
  },
  {
   "cell_type": "code",
   "execution_count": null,
   "metadata": {},
   "outputs": [],
   "source": [
    "plt.figure(figsize=(24,12))\n",
    "plt.title('Prices of all the stocks')\n",
    "plt.ylabel('stock price')\n",
    "plt.xlabel('date')\n",
    "\n",
    "locs, labels = plt.xticks()\n",
    "print(labels)\n",
    "print(locs)\n",
    "\n",
    "for company in company_name:\n",
    "    data_company = get_records_in_time_period(data, '2020-01-01', '2020-11-30', company_name=company)\n",
    "    plt.plot(data_company.index,data_company.Close, label=company)\n",
    "    plt.legend()"
   ]
  },
  {
   "cell_type": "markdown",
   "metadata": {},
   "source": [
    "**Nhận xét:** Ta thấy giá cổ phiếu các công ty đều tụt dốc vào giai đoạn đầu tháng 3, lúc dịch Covid bắt đầu bùng phát và lan nhanh ở nhiều nơi trên thế giới. Tuy nhiên tình hình ổn định hơn kể từ tháng 4, các công ty thương mại điện tử như Amazon tăng trưởng vượt bậc do nhu cầu mua sắm online trong thời kỳ cách ly. "
   ]
  },
  {
   "cell_type": "markdown",
   "metadata": {},
   "source": [
    "2. **<font color=red>Tác động của đại dịch Covid-19 đến tình hình kinh tế của các công ty? </font>**"
   ]
  },
  {
   "cell_type": "code",
   "execution_count": null,
   "metadata": {},
   "outputs": [],
   "source": [
    "# https://www.kaggle.com/kratisaxena/stock-market-technical-indicators-visualization/notebook\n",
    "data_test = get_records_in_time_period(data, '2020-01-01', '2020-11-30').copy()\n",
    "data_test['HL'] = data_test['High'] - data_test['Low']\n",
    "data_test['absHC'] = abs(data_test['High'] - data_test['Close'].shift(1))\n",
    "data_test['absLC'] = abs(data_test['Low'] - data_test['Close'].shift(1))\n",
    "data_test['TR'] = data_test[['HL','absHC','absLC']].max(axis=1)\n",
    "data_test['ATR'] = data_test['TR'].rolling(window=14).mean()\n",
    "data_test['NATR'] = (data_test['ATR'] / data_test['Close']) *100\n",
    "data_test.fillna(0)"
   ]
  },
  {
   "cell_type": "code",
   "execution_count": null,
   "metadata": {},
   "outputs": [],
   "source": [
    "plt.style.use('ggplot')\n",
    "fig = plt.figure(figsize=(20,25))\n",
    "for i in range(6):\n",
    "    data_temp = data_test[data_test['Company'] == company_name[i]]\n",
    "    ax = plt.subplot(3,2,i+1)\n",
    "    ax.plot(data_temp.index, data_temp['NATR'], 'red', label=\"NATR\", alpha = 0.5)\n",
    "    ax.plot(data_temp.index, data_temp['Close'], 'cyan', label=\"Close\", alpha = 0.5)\n",
    "    ax.set_title(\"NATR of \" + company_name[i])\n",
    "    ax.legend()\n",
    "    ax.set_xlabel(\"Date\")\n",
    "    ax.set_ylabel(\"Close Price\")\n",
    "    plt.xticks(rotation=30)\n",
    "fig.tight_layout()"
   ]
  },
  {
   "cell_type": "markdown",
   "metadata": {},
   "source": [
    "4. **<font color=red>Kiểm chứng model LSTM áp dụng cho giá cổ phiếu của Alphabet bằng dữ liệu ta có. Từ đó dự đoán giá cổ phiếu cho ngày tiếp theo sau ngày cuối trong dữ liệu? </font>**"
   ]
  },
  {
   "cell_type": "markdown",
   "metadata": {},
   "source": [
    "Để tạo mô hình huấn luyện, bước đầu tiên ta cần phải chuẩn bị dữ liệu cho mô hình. Ở đây, ta sẽ làm việc với cột giá trị stock lúc đóng phiên giao dịch của Alphabet. Sau đó chuẩn hóa dữ liệu bằng `MinMaxScaler` của sklearn. "
   ]
  },
  {
   "cell_type": "code",
   "execution_count": null,
   "metadata": {},
   "outputs": [],
   "source": [
    "src_stock = data[data['Company'] == 'Alphabet']['Close'].iloc[::-1]\n",
    "alpha_stock = src_stock.values\n",
    "alpha_stock = alpha_stock.reshape(len(alpha_stock), 1)\n",
    "scaler = MinMaxScaler(feature_range=(0, 1))\n",
    "scaled_stock = scaler.fit_transform(alpha_stock)\n",
    "scaled_stock"
   ]
  },
  {
   "cell_type": "markdown",
   "metadata": {},
   "source": [
    "Với dữ liệu này, ta lấy 20% dòng cuối để làm giá trị test, còn lại ta dùng cho việc huấn luyện mô hình."
   ]
  },
  {
   "cell_type": "code",
   "execution_count": null,
   "metadata": {},
   "outputs": [],
   "source": [
    "train_values = scaled_stock[:int(len(alpha_stock) * 0.8)]\n",
    "train_values"
   ]
  },
  {
   "cell_type": "markdown",
   "metadata": {},
   "source": [
    "Sau đó, tạo ra tập X_train và Y_train.\n",
    "- Với Y_train, ta lấy giá trị stock của một ngày.\n",
    "- Với X_train, ta lấy giá trị của 100 dòng giá trị trước ngày đó."
   ]
  },
  {
   "cell_type": "code",
   "execution_count": null,
   "metadata": {},
   "outputs": [],
   "source": [
    "X_train, Y_train = [], []\n",
    "\n",
    "for i in range(100, len(train_values)):\n",
    "    X_train.append(train_values[i - 100:i])\n",
    "    Y_train.append(train_values[i])"
   ]
  },
  {
   "cell_type": "code",
   "execution_count": null,
   "metadata": {
    "scrolled": true
   },
   "outputs": [],
   "source": [
    "X_train = np.array(X_train)\n",
    "Y_train = np.array(Y_train)\n",
    "X_train = np.reshape(X_train, (X_train.shape[0], X_train.shape[1], 1))"
   ]
  },
  {
   "cell_type": "markdown",
   "metadata": {},
   "source": [
    "Bắt đầu xây dựng mô hình huấn luyện. Các dòng có ý nghĩa như sau:\n",
    "- Dòng 1: khởi tạo model.\n",
    "- Dòng 2: thêm layer LSTM vào model. Layer này có các tham số như `units` = 128 là kích thước chiều của output, `return_sequences=True` để trả về output, `input_shape` để xác định chiều của input.\n",
    "- Dòng 3: thêm layer LSTM thứ 2. Layer này có 64 units và không trả về output.\n",
    "- Dòng 4: thêm layer `Dense`. Layer này có tham số là 25, nghĩa là số chiều của output là 25.\n",
    "- Dòng 5: thêm layer `Dense` thứ 2. Layer này có tham số là 1, nghĩa là output chỉ còn 1 chiều.\n",
    "- Dòng 6: compile model với tham số `optimizer` để tạo metrics tính toán và `loss` để model xác định cách giảm thiểu lỗi.\n",
    "- Dòng 7: fit model với các tập train. Tham số `batch_size` để xác định số lượng sample mỗi lần update gradient, tham số `epochs` xác định kích thước epoch để train model.\n",
    "\n",
    "Việc lặp các layer để tăng độ phức tạp và không gian của model, từ đó có thể có được kết quả train tốt hơn."
   ]
  },
  {
   "cell_type": "code",
   "execution_count": null,
   "metadata": {},
   "outputs": [],
   "source": [
    "model = Sequential()\n",
    "model.add(LSTM(128, return_sequences=True, input_shape= (X_train.shape[1], 1)))\n",
    "model.add(LSTM(64, return_sequences=False))\n",
    "model.add(Dense(25))\n",
    "model.add(Dense(1))\n",
    "model.compile(optimizer='adam', loss='mean_squared_error')\n",
    "model.fit(X_train, Y_train, batch_size=1, epochs=1)"
   ]
  },
  {
   "cell_type": "markdown",
   "metadata": {},
   "source": [
    "Sau khi tạo và huấn luyện mô hình cho tập huấn luyện, ta tạo dữ liệu cho tập test. Ta lấy thêm 100 dòng từ dữ liệu train để có thể dự đoán giá trị đầu tiên trong tập test."
   ]
  },
  {
   "cell_type": "code",
   "execution_count": null,
   "metadata": {},
   "outputs": [],
   "source": [
    "test_values = scaled_stock[int(len(alpha_stock) * 0.8) - 100:]"
   ]
  },
  {
   "cell_type": "code",
   "execution_count": null,
   "metadata": {
    "scrolled": true
   },
   "outputs": [],
   "source": [
    "X_test = []\n",
    "Y_test = alpha_stock[int(len(alpha_stock) * 0.8):, :]\n",
    "\n",
    "for i in range(100, len(test_values)):\n",
    "    X_test.append(test_values[i - 100:i])\n",
    "\n",
    "X_test = np.array(X_test)\n",
    "X_test = np.reshape(X_test, (X_test.shape[0], X_test.shape[1], 1 ))\n"
   ]
  },
  {
   "cell_type": "markdown",
   "metadata": {},
   "source": [
    "Áp dụng mô hình cho tập dữ liệu test."
   ]
  },
  {
   "cell_type": "code",
   "execution_count": null,
   "metadata": {},
   "outputs": [],
   "source": [
    "predictions = model.predict(X_test)\n",
    "predictions = scaler.inverse_transform(predictions)"
   ]
  },
  {
   "cell_type": "markdown",
   "metadata": {},
   "source": [
    "Tính độ lỗi RMSE cho tập dự đoán và tập test."
   ]
  },
  {
   "cell_type": "code",
   "execution_count": null,
   "metadata": {},
   "outputs": [],
   "source": [
    "rmse = np.sqrt(np.mean(((predictions - Y_test) ** 2)))\n",
    "rmse"
   ]
  },
  {
   "cell_type": "markdown",
   "metadata": {},
   "source": [
    "Từ các tập dữ liệu huấn luyện, tập dự đoán và tập kết quả, ta vẽ đồ thị để dễ dàng quan sát."
   ]
  },
  {
   "cell_type": "code",
   "execution_count": null,
   "metadata": {},
   "outputs": [],
   "source": [
    "src_stock"
   ]
  },
  {
   "cell_type": "code",
   "execution_count": null,
   "metadata": {},
   "outputs": [],
   "source": [
    "train_set = src_stock.iloc[:int(0.8 * len(src_stock))]\n",
    "test_set = src_stock.iloc[int(0.8 * len(src_stock)):]\n",
    "prediction_set = pd.Series(predictions.reshape(len(predictions)))\n",
    "prediction_set.index = test_set.index"
   ]
  },
  {
   "cell_type": "code",
   "execution_count": null,
   "metadata": {},
   "outputs": [],
   "source": [
    "prediction_set"
   ]
  },
  {
   "cell_type": "code",
   "execution_count": null,
   "metadata": {},
   "outputs": [],
   "source": [
    "test_set"
   ]
  },
  {
   "cell_type": "code",
   "execution_count": null,
   "metadata": {},
   "outputs": [],
   "source": [
    "fig = plt.figure(figsize=(15, 5))\n",
    "plt.xlabel('Date', color=\"red\")\n",
    "plt.ylabel('Price', color=\"red\")\n",
    "plt.plot(train_set)\n",
    "plt.plot(test_set)\n",
    "plt.plot(prediction_set)\n",
    "plt.tick_params(axis='x', colors=\"C0\")\n",
    "plt.tick_params(axis='y', colors=\"C0\")\n",
    "plt.legend(['Train set', 'Test set', 'Prediction set'], loc='upper left')\n",
    "plt.show()"
   ]
  },
  {
   "cell_type": "markdown",
   "metadata": {},
   "source": [
    "#### Nhận xét: \n",
    "- Từ độ lỗi và biểu đồ trực quan, ta có thể thấy mô hình LSTM này khá phù hợp với việc dự đoán giá cổ phiếu, chủ yếu là vì mô hình này phù hợp với loại dữ liệu liên tục và có sự kết giữa các mốc giá trị.\n",
    "- Đối với những ngày có sự thay đổi không lớn (không đột ngột), mô hình dự đoán khá chính xác, tuy nhiên, với những ngày có giá biến động thất thường, mô hình cho ra kết quả dự đoán tương đối lệch. Điều này là hiển nhiên không thể tránh khỏi, vì mô hình LSTM mà ta đang sử dụng tương đối đơn giản, dữ liệu mà ta sử dụng cũng vậy, chỉ có vài cột dữ liệu. Bên cạnh đó, sự thay đổi trong giá cổ phiếu còn phụ thuộc vào rất nhiều yếu tố ngoài đời thực khác (như đại dịch, chủ tịch qua đời, sản phẩm mới ra mắt thành công hoặc thất bại, vướng phải kiện tụng,...). ***Vì thế, việc sử dụng mô hình này để dự đoán chỉ mang tính chất tham khảo.***"
   ]
  },
  {
   "cell_type": "markdown",
   "metadata": {},
   "source": [
    "Xây dựng hàm `lstm_model` để có thể áp dụng cho nhiều công ty.\n",
    "- Hàm này yêu cầu tham số là dataframe dữ liệu, tên công ty và một số nguyên là giá trị độ dài một dòng input mà ta mong muốn.\n",
    "- Cách hoạt động của hàm:\n",
    "    - Chia tập dữ liệu thành 2 phần: 80% đầu dành cho việc train và 20% còn lại dành cho việc test.\n",
    "    - Với mỗi giá trị cổ phiếu, ta lấy giá trị cổ phiếu của N ngày trước đó để làm input cho việc huấn luyện, và giá trị ngày đó làm output.\n",
    "    - Tiếp tục lặp với toàn bộ tập train để có được model.\n",
    "- Sau khi hoàn thành việc huấn luyện mô hình, hàm sẽ trả về một vài giá trị như:\n",
    "    - `model`: mô hình LSTM đã huấn luyện.\n",
    "    - `scaler`: mô hình chuẩn hóa dữ liệu.\n",
    "    - `rmse`: độ lỗi trên tập test."
   ]
  },
  {
   "cell_type": "code",
   "execution_count": null,
   "metadata": {},
   "outputs": [],
   "source": [
    "def lstm_model(df, company_name, input_len=100):\n",
    "    '''\n",
    "    Hàm lstm_model sẽ tạo một LSTM model đã qua việc train với 80% lượng dữ liệu ta có.\n",
    "    Tham số df: dataframe chứa dữ liệu để tạo model.\n",
    "    Tham số company_name: tên công ty để lấy dữ liệu.\n",
    "    Tham số input_len: độ dài của một dòng input.\n",
    "    Output: một model LSTM đã qua việc huấn luyện, mô hình chuẩn hóa dữ liệu, độ lỗi trên tập test.\n",
    "    '''\n",
    "    \n",
    "    stock = df[df['Company'] == company_name]['Close'].values\n",
    "    stock = stock.reshape(len(stock), 1)\n",
    "    \n",
    "    scaler = MinMaxScaler(feature_range=(0, 1))\n",
    "    scaled_stock = scaler.fit_transform(stock)\n",
    "\n",
    "    train_values = scaled_stock[:int(len(stock) * 0.8)]\n",
    "    X_train, Y_train = [], []\n",
    "    \n",
    "    for i in range(input_len, len(train_values)):\n",
    "        X_train.append(train_values[i - input_len:i])\n",
    "        Y_train.append(train_values[i])\n",
    "\n",
    "    X_train = np.array(X_train)\n",
    "    Y_train = np.array(Y_train)\n",
    "    X_train = np.reshape(X_train, (X_train.shape[0], X_train.shape[1], 1))\n",
    "    \n",
    "    # tạo mô hình LSTM để huấn luyện\n",
    "    model = Sequential()\n",
    "    model.add(LSTM(128, return_sequences=True, input_shape=(X_train.shape[1], 1)))\n",
    "    model.add(LSTM(64, return_sequences=False))\n",
    "    model.add(Dense(25))\n",
    "    model.add(Dense(1))\n",
    "    model.compile(optimizer='adam', loss='mean_squared_error')\n",
    "    model.fit(X_train, Y_train, batch_size=1, epochs=1)\n",
    "    \n",
    "    test_values = scaled_stock[int(len(stock) * 0.8) - input_len:]\n",
    "    X_test = []\n",
    "    Y_test = stock[int(len(stock) * 0.8):, :]\n",
    "\n",
    "    for i in range(input_len, len(test_values)):\n",
    "        X_test.append(test_values[i - input_len:i])\n",
    "\n",
    "    X_test = np.array(X_test)\n",
    "    X_test = np.reshape(X_test, (X_test.shape[0], X_test.shape[1], 1 ))\n",
    "\n",
    "    predictions = model.predict(X_test)\n",
    "    predictions = scaler.inverse_transform(predictions)\n",
    "    \n",
    "    rmse = np.sqrt(np.mean(((predictions - Y_test) ** 2)))\n",
    "\n",
    "    return model, scaler, rmse\n"
   ]
  }
 ],
 "metadata": {
  "kernelspec": {
   "display_name": "Python 3",
   "language": "python",
   "name": "python3"
  },
  "language_info": {
   "codemirror_mode": {
    "name": "ipython",
    "version": 3
   },
   "file_extension": ".py",
   "mimetype": "text/x-python",
   "name": "python",
   "nbconvert_exporter": "python",
   "pygments_lexer": "ipython3",
   "version": "3.7.9"
  }
 },
 "nbformat": 4,
 "nbformat_minor": 4
}
