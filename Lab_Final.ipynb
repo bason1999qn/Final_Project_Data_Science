{
 "cells": [
  {
   "cell_type": "markdown",
   "metadata": {},
   "source": [
    "\n",
    "<font size=\"5\">**<center> ĐỒ ÁN CUỐI KỲ </center>** </font>\n",
    "\n",
    "<font size=\"4\">**<center> KHOA HỌC DỮ LIỆU</center>** </font>"
   ]
  },
  {
   "cell_type": "markdown",
   "metadata": {},
   "source": [
    "# I/ Thông tin nhóm:\n",
    "\n",
    "| STT |       Tên       |   MSSV  |\n",
    "|-----|:---------------:|--------:|\n",
    "|  1  |   Thái Bá Sơn   | 1712732 |\n",
    "|  2  | Huỳnh Công Sinh | 1712724 |"
   ]
  },
  {
   "cell_type": "markdown",
   "metadata": {},
   "source": [
    "# II/ Khai thác dữ liệu:"
   ]
  },
  {
   "cell_type": "code",
   "execution_count": 1,
   "metadata": {},
   "outputs": [],
   "source": [
    "from selenium import webdriver\n",
    "import time\n",
    "from selenium.common.exceptions import NoSuchElementException\n",
    "from selenium.webdriver.common.action_chains import ActionChains\n",
    "from selenium.webdriver.common.keys import Keys\n",
    "import numpy as np\n",
    "import pandas as pd\n"
   ]
  },
  {
   "cell_type": "markdown",
   "metadata": {},
   "source": [
    "Dữ liệu khai thác từ: [đây](https://www.nasdaq.com/) \n",
    "\n",
    "Cấu trúc câu lệnh khai thác: 'https://www.nasdaq.com/market-activity/stocks/' + 'stock_code' + '/historical'\n"
   ]
  },
  {
   "cell_type": "raw",
   "metadata": {},
   "source": [
    "options = webdriver.ChromeOptions()\n",
    "options.add_argument('--ignore-certificate-errors')\n",
    "options.add_argument('--ignore-ssl-errors')\n",
    "options.add_argument(\"--start-maximized\")\n",
    "\n",
    "with webdriver.Chrome(options=options) as browser:\n",
    "    data = pd.DataFrame(columns=['Date', 'Close/Last', 'Volume', 'Open', 'High', 'Low', 'Company'])\n",
    "    urls = ['https://www.nasdaq.com/market-activity/stocks/googl/historical',\n",
    "            'https://www.nasdaq.com/market-activity/stocks/aapl/historical',\n",
    "            'https://www.nasdaq.com/market-activity/stocks/amzn/historical',\n",
    "            'https://www.nasdaq.com/market-activity/stocks/fb/historical',\n",
    "            'https://www.nasdaq.com/market-activity/stocks/tsla/historical',\n",
    "            'https://www.nasdaq.com/market-activity/stocks/msft/historical'\n",
    "            ]\n",
    "    companies = ['Alphabet', 'Apple', 'Amazon', 'Facebook', 'Tesla', 'Microsoft']\n",
    "    for index in range(len(urls)):\n",
    "        browser.get(urls[index])\n",
    "        # browser.get(urls[i])\n",
    "        time.sleep(4)\n",
    "        try:\n",
    "            close = browser.find_element_by_id('_evh-ric-c')\n",
    "            ActionChains(browser).click(close).perform()\n",
    "        except NoSuchElementException:\n",
    "            pass\n",
    "        expand = browser.find_element_by_xpath('//button[text()=\"MAX\"]')\n",
    "        ActionChains(browser).click(expand).perform()\n",
    "        browser.execute_script(\"window.scrollTo(0, 450)\")\n",
    "        i = 0\n",
    "        while i < 140:\n",
    "            rows = browser.find_elements_by_class_name('historical-data__row')\n",
    "            for row in rows:\n",
    "                row_data = row.text.split(' ')\n",
    "                row_data.append(companies[index])\n",
    "                data.loc[len(data), :] = row_data\n",
    "            print(data)\n",
    "\n",
    "            next_button = browser.find_element_by_class_name('pagination__next')\n",
    "            ActionChains(browser).click(next_button).perform()\n",
    "            time.sleep(5)\n",
    "            i += 1\n",
    "\n",
    "#     data.to_csv('stock_data.csv', sep='\\t', index=False)"
   ]
  },
  {
   "cell_type": "markdown",
   "metadata": {},
   "source": [
    "# I/ Dữ liệu"
   ]
  },
  {
   "cell_type": "markdown",
   "metadata": {},
   "source": [
    "### Thông tin về dữ liệu:\n"
   ]
  },
  {
   "cell_type": "markdown",
   "metadata": {},
   "source": [
    "Trong sổ tay này, chúng ta sẽ xem xét dữ liệu từ thị trường chứng khoán, đặc biệt là một số cổ phiếu công nghệ. Sử dụng pandas để lấy thông tin cổ phiếu, hình dung các khía cạnh khác nhau của nó và cuối cùng ta sẽ xem xét một số cách phân tích rủi ro của cổ phiếu, dựa trên lịch sử hoạt động trước đó của nó. Chúng tôi cũng sẽ dự đoán giá cổ phiếu trong tương lai thông qua phương pháp Long Short Term Memory (LSTM)! \n",
    "\n",
    "**Nguồn:**"
   ]
  },
  {
   "cell_type": "markdown",
   "metadata": {},
   "source": [
    "---"
   ]
  },
  {
   "cell_type": "markdown",
   "metadata": {},
   "source": [
    "# II/ Khám phá dữ liệu:"
   ]
  },
  {
   "cell_type": "markdown",
   "metadata": {},
   "source": [
    "### Import"
   ]
  },
  {
   "cell_type": "code",
   "execution_count": null,
   "metadata": {},
   "outputs": [],
   "source": [
    "import matplotlib.pyplot as plt\n",
    "import matplotlib.colors\n",
    "import seaborn as sns\n",
    "import pandas as pd\n",
    "import numpy as np\n",
    "from sklearn.model_selection import train_test_split\n",
    "from sklearn.linear_model import LinearRegression\n",
    "from sklearn.metrics import mean_squared_error\n",
    "from sklearn.preprocessing import MinMaxScaler\n",
    "from keras.models import Sequential\n",
    "from keras.layers import Dense, LSTM\n",
    "\n",
    "\n",
    "sns.set_style('whitegrid')\n",
    "plt.style.use(\"fivethirtyeight\")\n",
    "%matplotlib inline"
   ]
  },
  {
   "cell_type": "markdown",
   "metadata": {},
   "source": [
    "### Đọc dữ liệu từ file csv vào dataframe"
   ]
  },
  {
   "cell_type": "code",
   "execution_count": null,
   "metadata": {},
   "outputs": [],
   "source": [
    "df = pd.read_csv(\"stock_data.csv\", sep = '\\t')\n",
    "df.head()"
   ]
  },
  {
   "cell_type": "markdown",
   "metadata": {},
   "source": [
    "### Thông tin thuộc tính:"
   ]
  },
  {
   "cell_type": "code",
   "execution_count": null,
   "metadata": {},
   "outputs": [],
   "source": [
    "num_rows, num_cols = df.shape\n",
    "print(\"Dữ liệu có {} dòng, {} cột.\".format(num_rows, num_cols))"
   ]
  },
  {
   "cell_type": "code",
   "execution_count": null,
   "metadata": {},
   "outputs": [],
   "source": [
    "df.info()"
   ]
  },
  {
   "cell_type": "markdown",
   "metadata": {},
   "source": [
    "---"
   ]
  },
  {
   "cell_type": "markdown",
   "metadata": {},
   "source": [
    "## Tiền xử lý:"
   ]
  },
  {
   "cell_type": "markdown",
   "metadata": {},
   "source": [
    "- Kiểm tra dữ thông tin dữ liệu: kiểu dữ liệu của các thuộc tính, các cột có bị thiếu giá trị hay không?..."
   ]
  },
  {
   "cell_type": "code",
   "execution_count": null,
   "metadata": {
    "scrolled": false
   },
   "outputs": [],
   "source": [
    "#xem thông tin data:\n",
    "df.info()\n",
    "\n",
    "if df.isnull().values.any() == False:\n",
    "    print(\"=> Không có ô giá trị nào bị thiếu.\")\n",
    "else:\n",
    "    print(\"Dữ liệu bị thiếu.\")"
   ]
  },
  {
   "cell_type": "markdown",
   "metadata": {},
   "source": [
    "- Định dạng lại kiểu dữ liệu cho phù hợp."
   ]
  },
  {
   "cell_type": "code",
   "execution_count": null,
   "metadata": {},
   "outputs": [],
   "source": [
    "df = pd.read_csv(\"stock_data.csv\", sep = '\\t')\n",
    "\n",
    "#Định dạng lại cột Date sang kiểu dữ liệu datetime\n",
    "df[\"Date\"] = pd.to_datetime(df[\"Date\"])\n",
    "#Xóa khoảng trắng trong dữ liệu:\n",
    "df.columns = df.columns.str.replace(' ', '') \n",
    "df.replace(' ', '', regex=True, inplace = True)\n",
    "\n",
    "#Chuyển cột có ký hiệu tiền tệ ($) sang dạng datetime:\n",
    "df['Close/Last'] = df['Close/Last'].str.replace('$', '').astype(float)\n",
    "df['Open'] = df['Open'].str.replace('$', '').astype(float)\n",
    "df['High'] = df['High'].str.replace('$', '').astype(float)\n",
    "df['Low'] = df['Low'].str.replace('$', '').astype(float)\n",
    "\n",
    "#Sắp xếp cổ phiếu tăng dần theo ngày:\n",
    "df.sort_values(['Company', 'Date'], ascending=[True, True], inplace = True)\n",
    "\n",
    "company_name = list(df[\"Company\"].unique())"
   ]
  },
  {
   "cell_type": "markdown",
   "metadata": {},
   "source": [
    "- Thêm ngày bị thiếu:"
   ]
  },
  {
   "cell_type": "code",
   "execution_count": null,
   "metadata": {},
   "outputs": [],
   "source": [
    "data = pd.DataFrame(columns=df.columns)\n",
    "companies = df['Company'].unique()\n",
    "for company in companies:\n",
    "    one_company_df = df[df['Company'] == company]\n",
    "    one_company_df['Date'] = pd.to_datetime(one_company_df['Date'])\n",
    "    one_company_df = one_company_df.sort_values(by=['Date'], ascending=True)\n",
    "    one_company_df.set_index('Date', inplace=True)\n",
    "    one_company_df = one_company_df.resample('D').bfill().reset_index()\n",
    "    one_company_df = one_company_df.sort_values(by=['Date'], ascending=False).reset_index()\n",
    "    data = data.append(one_company_df)\n",
    "data = data.drop('index', axis=1).reset_index(drop=True)"
   ]
  },
  {
   "cell_type": "markdown",
   "metadata": {},
   "source": [
    "- Dữ liệu sau khi tiền xử lý:"
   ]
  },
  {
   "cell_type": "code",
   "execution_count": null,
   "metadata": {
    "scrolled": false
   },
   "outputs": [],
   "source": [
    "data.info()\n",
    "data.head()"
   ]
  },
  {
   "cell_type": "code",
   "execution_count": null,
   "metadata": {
    "scrolled": true
   },
   "outputs": [],
   "source": [
    "# Summary Stats\n",
    "data.describe()"
   ]
  },
  {
   "cell_type": "code",
   "execution_count": null,
   "metadata": {
    "scrolled": true
   },
   "outputs": [],
   "source": [
    "100 * data.isnull().sum() / len(df)"
   ]
  },
  {
   "cell_type": "code",
   "execution_count": null,
   "metadata": {},
   "outputs": [],
   "source": [
    "sns.kdeplot(df['Close/Last'], shade=True)\n",
    "plt.show()"
   ]
  },
  {
   "cell_type": "markdown",
   "metadata": {},
   "source": [
    "# III/ Đặt câu hỏi:\n",
    "- 1.\n",
    "\n",
    "- 2. \n",
    "\n",
    "- 3.\n",
    "\n",
    "- 4. \n",
    "\n",
    "- 5. \n"
   ]
  },
  {
   "cell_type": "markdown",
   "metadata": {},
   "source": [
    "---"
   ]
  },
  {
   "cell_type": "markdown",
   "metadata": {},
   "source": [
    "# IV/ Tìm câu trả lời:"
   ]
  },
  {
   "cell_type": "markdown",
   "metadata": {},
   "source": [
    "- **<font color=red>Kiểm chứng model LSTM áp dụng cho giá cổ phiếu của Alphabet bằng dữ liệu ta có. Từ đó dự đoán giá cổ phiếu cho ngày tiếp theo sau ngày cuối trong dữ liệu? </font>**"
   ]
  },
  {
   "cell_type": "code",
   "execution_count": 3,
   "metadata": {
    "scrolled": true
   },
   "outputs": [
    {
     "ename": "NameError",
     "evalue": "name 'data' is not defined",
     "output_type": "error",
     "traceback": [
      "\u001b[1;31m---------------------------------------------------------------------------\u001b[0m",
      "\u001b[1;31mNameError\u001b[0m                                 Traceback (most recent call last)",
      "\u001b[1;32m<ipython-input-3-4381a97cad81>\u001b[0m in \u001b[0;36m<module>\u001b[1;34m\u001b[0m\n\u001b[0;32m     14\u001b[0m         \u001b[1;32mreturn\u001b[0m \u001b[0mcompany_df\u001b[0m\u001b[1;33m.\u001b[0m\u001b[0mloc\u001b[0m\u001b[1;33m[\u001b[0m\u001b[0mtime_period_filter\u001b[0m\u001b[1;33m]\u001b[0m\u001b[1;33m\u001b[0m\u001b[1;33m\u001b[0m\u001b[0m\n\u001b[0;32m     15\u001b[0m \u001b[1;33m\u001b[0m\u001b[0m\n\u001b[1;32m---> 16\u001b[1;33m \u001b[0mk\u001b[0m \u001b[1;33m=\u001b[0m \u001b[0mget_records_in_time_period\u001b[0m\u001b[1;33m(\u001b[0m\u001b[0mdata\u001b[0m\u001b[1;33m,\u001b[0m \u001b[1;34m'Apple'\u001b[0m\u001b[1;33m,\u001b[0m \u001b[1;34m'2019-12-1'\u001b[0m\u001b[1;33m,\u001b[0m \u001b[1;34m'2020-12-1'\u001b[0m\u001b[1;33m)\u001b[0m\u001b[1;33m\u001b[0m\u001b[1;33m\u001b[0m\u001b[0m\n\u001b[0m",
      "\u001b[1;31mNameError\u001b[0m: name 'data' is not defined"
     ]
    }
   ],
   "source": [
    "def get_records_in_time_period(df, start_date, end_date, company_name=None):\n",
    "    '''\n",
    "    Hàm get_records_in_time_period sẽ lấy các records của công ty trong một khoảng thời gian từ một dataframe\n",
    "    Tham số df: dataframe nguồn chứa các records.\n",
    "    Tham số start_date: mốc thời gian bắt đầu.\n",
    "    Tham số end_date: mốc thời gian kết thúc.\n",
    "    Tham số company_name: tên công ty cần lấy record, mặc định None sẽ lấy toàn bộ.\n",
    "    Output: một dataframe chứa các records với tất cả các cột dữ liệu.\n",
    "    '''\n",
    "    if company_name is None:\n",
    "        return df.loc[(df['Date'] >= start_date) & (df['Date'] <= end_date)]\n",
    "    else:\n",
    "        company_df = df[df['Company'] == company_name]\n",
    "        time_period_filter = (company_df['Date'] >= start_date) & (company_df['Date'] <= end_date)\n",
    "        return company_df.loc[time_period_filter]\n",
    "\n",
    "k = get_records_in_time_period(data, 'Apple', '2019-12-1', '2020-12-1')"
   ]
  },
  {
   "cell_type": "code",
   "execution_count": 4,
   "metadata": {},
   "outputs": [],
   "source": [
    "def lstm_model(df, company_name, input_len=100):\n",
    "    '''\n",
    "    Hàm lstm_model sẽ tạo một LSTM model đã qua việc train với 80% lượng dữ liệu ta có.\n",
    "    Tham số df: dataframe chứa dữ liệu để tạo model.\n",
    "    \n",
    "    '''\n",
    "    \n",
    "    stock = df[df['Company'] == company_name]['Close/Last'].values\n",
    "    stock = stock.reshape(len(stock), 1)\n",
    "    scaler = MinMaxScaler(feature_range=(0, 1))\n",
    "    scaled_stock = scaler.fit_transform(stock)\n",
    "\n",
    "    train_values = scaled_stock[:int(len(stock) * 0.8)]\n",
    "    X_train, Y_train = [], []\n",
    "\n",
    "    for i in range(input_len, len(train_values)):\n",
    "        X_train.append(train_values[i - 100:i])\n",
    "        Y_train.append(train_values[i])\n",
    "\n",
    "    X_train = np.array(X_train)\n",
    "    Y_train = np.array(Y_train)\n",
    "    X_train = np.reshape(X_train, (X_train.shape[0], X_train.shape[1], 1))\n",
    "\n",
    "    model = Sequential()\n",
    "    model.add(LSTM(128, return_sequences=True, input_shape=(X_train.shape[1], 1)))\n",
    "    model.add(LSTM(64, return_sequences=False))\n",
    "    model.add(Dense(25))\n",
    "    model.add(Dense(1))\n",
    "    model.compile(optimizer='adam', loss='mean_squared_error')\n",
    "    model.fit(X_train, Y_train, batch_size=1, epochs=1)\n",
    "\n",
    "    return model\n"
   ]
  },
  {
   "cell_type": "code",
   "execution_count": null,
   "metadata": {},
   "outputs": [],
   "source": [
    "data[data['Company'] == 'Amazon']"
   ]
  },
  {
   "cell_type": "code",
   "execution_count": null,
   "metadata": {},
   "outputs": [],
   "source": [
    "plt.figure(figsize=(20, 10))\n",
    "plt.subplots_adjust(top=1.25, bottom=1.2)\n",
    "\n",
    "for i, company in enumerate(company_name, 1):\n",
    "    plt.subplot(2, 3, i)\n",
    "    data[data['Company'] == company]['Close/Last'].plot(linewidth=2.0)\n",
    "    plt.ylabel('Close/Last')\n",
    "    plt.xlabel(None)\n",
    "    plt.title(f\"{company_name[i - 1]}\")"
   ]
  },
  {
   "cell_type": "markdown",
   "metadata": {},
   "source": [
    "---"
   ]
  },
  {
   "cell_type": "markdown",
   "metadata": {},
   "source": [
    "---"
   ]
  },
  {
   "cell_type": "markdown",
   "metadata": {},
   "source": [
    "- **<font color=red> 2. Tạo mô hình huấn luyện để dự đoán giá</font>**"
   ]
  },
  {
   "cell_type": "markdown",
   "metadata": {},
   "source": [
    "Để tạo mô hình huấn luyện, bước đầu tiên ta cần phải chuẩn bị dữ liệu cho mô hình. Ở đây, ta sẽ làm việc với cột giá trị stock lúc đóng phiên giao dịch của Alphabet. Sau đó chuẩn hóa dữ liệu bằng `MinMaxScaler` của sklearn. "
   ]
  },
  {
   "cell_type": "code",
   "execution_count": null,
   "metadata": {
    "scrolled": false
   },
   "outputs": [],
   "source": [
    "alpha_stock = df[df['Company'] == 'Alphabet']['Close/Last'].values\n",
    "alpha_stock = alpha_stock.reshape(len(alpha_stock), 1)\n",
    "scaler = MinMaxScaler(feature_range=(0, 1))\n",
    "scaled_stock = scaler.fit_transform(alpha_stock)\n",
    "scaled_stock"
   ]
  },
  {
   "cell_type": "markdown",
   "metadata": {},
   "source": [
    "Với dữ liệu này, ta lấy 20% dòng cuối để làm giá trị test, còn lại ta dùng cho việc huấn luyện mô hình."
   ]
  },
  {
   "cell_type": "code",
   "execution_count": null,
   "metadata": {},
   "outputs": [],
   "source": [
    "train_values = scaled_stock[:int(len(alpha_stock) * 0.8)]\n",
    "train_values"
   ]
  },
  {
   "cell_type": "markdown",
   "metadata": {},
   "source": [
    "Sau đó, tạo ra tập X_train và Y_train.\n",
    "- Với Y_train, ta lấy giá trị stock của một ngày.\n",
    "- Với X_train, ta lấy giá trị của 60 dòng trước ngày đó."
   ]
  },
  {
   "cell_type": "code",
   "execution_count": null,
   "metadata": {},
   "outputs": [],
   "source": [
    "X_train, Y_train = [], []\n",
    "\n",
    "for i in range(120, len(train_values)):\n",
    "    X_train.append(train_values[i - 120:i])\n",
    "    Y_train.append(train_values[i])"
   ]
  },
  {
   "cell_type": "code",
   "execution_count": null,
   "metadata": {
    "scrolled": true
   },
   "outputs": [],
   "source": [
    "X_train = np.array(X_train)\n",
    "Y_train = np.array(Y_train)\n",
    "X_train = np.reshape(X_train, (X_train.shape[0], X_train.shape[1], 1))"
   ]
  },
  {
   "cell_type": "markdown",
   "metadata": {},
   "source": [
    "Bắt đầu xây dựng mô hình huấn luyện."
   ]
  },
  {
   "cell_type": "code",
   "execution_count": null,
   "metadata": {},
   "outputs": [],
   "source": [
    "model = Sequential()\n",
    "model.add(LSTM(128, return_sequences=True, input_shape= (X_train.shape[1], 1)))\n",
    "model.add(LSTM(64, return_sequences=False))\n",
    "model.add(Dense(25))\n",
    "model.add(Dense(1))\n",
    "model.compile(optimizer='adam', loss='mean_squared_error')\n",
    "model.fit(X_train, Y_train, batch_size=1, epochs=1)"
   ]
  },
  {
   "cell_type": "markdown",
   "metadata": {},
   "source": [
    "Sau khi tạo và huấn luyện mô hình cho tập huấn luyện, ta tạo dữ liệu cho tập test."
   ]
  },
  {
   "cell_type": "code",
   "execution_count": null,
   "metadata": {},
   "outputs": [],
   "source": [
    "test_values = scaled_stock[int(len(alpha_stock) * 0.8) - 120:]"
   ]
  },
  {
   "cell_type": "code",
   "execution_count": null,
   "metadata": {
    "scrolled": true
   },
   "outputs": [],
   "source": [
    "X_test = []\n",
    "Y_test = alpha_stock[int(len(alpha_stock) * 0.8):, :]\n",
    "\n",
    "for i in range(120, len(test_values)):\n",
    "    X_test.append(test_values[i - 120:i])\n",
    "\n",
    "X_test = np.array(X_test)\n",
    "X_test = np.reshape(X_test, (X_test.shape[0], X_test.shape[1], 1 ))\n"
   ]
  },
  {
   "cell_type": "markdown",
   "metadata": {},
   "source": [
    "Áp dụng mô hình cho tập dữ liệu test."
   ]
  },
  {
   "cell_type": "code",
   "execution_count": null,
   "metadata": {},
   "outputs": [],
   "source": [
    "predictions = model.predict(X_test)\n",
    "predictions = scaler.inverse_transform(predictions)"
   ]
  },
  {
   "cell_type": "markdown",
   "metadata": {},
   "source": [
    "Tính độ lỗi RMSE cho tập dự đoán và tập test."
   ]
  },
  {
   "cell_type": "code",
   "execution_count": null,
   "metadata": {},
   "outputs": [],
   "source": [
    "rmse = np.sqrt(np.mean(((predictions - Y_test) ** 2)))\n",
    "rmse"
   ]
  }
 ],
 "metadata": {
  "kernelspec": {
   "display_name": "Python 3",
   "language": "python",
   "name": "python3"
  },
  "language_info": {
   "codemirror_mode": {
    "name": "ipython",
    "version": 3
   },
   "file_extension": ".py",
   "mimetype": "text/x-python",
   "name": "python",
   "nbconvert_exporter": "python",
   "pygments_lexer": "ipython3",
   "version": "3.8.3"
  }
 },
 "nbformat": 4,
 "nbformat_minor": 4
}
