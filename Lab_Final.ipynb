{
 "cells": [
  {
   "cell_type": "markdown",
   "metadata": {},
   "source": [
    "\n",
    "<font size=\"5\">**<center> ĐỒ ÁN CUỐI KỲ </center>** </font>\n",
    "\n",
    "<font size=\"4\">**<center> kHOA HỌC DỮ LIỆU ỨNG DỤNG</center>** </font>"
   ]
  },
  {
   "cell_type": "markdown",
   "metadata": {},
   "source": [
    "# I/ Thông tin nhóm:\n",
    "\n",
    "| STT |       Tên       |   MSSV  |\n",
    "|-----|:---------------:|--------:|\n",
    "|  1  |   Thái Bá Sơn   | 1712732 |\n",
    "|  2  | Huỳnh Công Sinh | 1712724 |"
   ]
  },
  {
   "cell_type": "markdown",
   "metadata": {},
   "source": [
    "# II/ Khai thác dữ liệu:"
   ]
  },
  {
   "cell_type": "code",
   "execution_count": 1,
   "metadata": {},
   "outputs": [],
   "source": [
    "from selenium import webdriver\n",
    "import time\n",
    "from selenium.common.exceptions import NoSuchElementException\n",
    "from selenium.webdriver.common.action_chains import ActionChains\n",
    "from selenium.webdriver.common.keys import Keys\n",
    "import numpy as np\n",
    "import pandas as pd\n"
   ]
  },
  {
   "cell_type": "markdown",
   "metadata": {},
   "source": [
    "Dữ liệu khai thác từ: [đây](https://www.nasdaq.com/) \n",
    "\n",
    "Cấu trúc câu lệnh khai thác: 'https://www.nasdaq.com/market-activity/stocks/' + 'stock_code' + '/historical'\n"
   ]
  },
  {
   "cell_type": "raw",
   "metadata": {},
   "source": [
    "options = webdriver.ChromeOptions()\n",
    "options.add_argument('--ignore-certificate-errors')\n",
    "options.add_argument('--ignore-ssl-errors')\n",
    "options.add_argument(\"--start-maximized\")\n",
    "\n",
    "with webdriver.Chrome(options=options) as browser:\n",
    "    data = pd.DataFrame(columns=['Date', 'Close/Last', 'Volume', 'Open', 'High', 'Low', 'Company'])\n",
    "    urls = ['https://www.nasdaq.com/market-activity/stocks/googl/historical',\n",
    "            'https://www.nasdaq.com/market-activity/stocks/aapl/historical',\n",
    "            'https://www.nasdaq.com/market-activity/stocks/amzn/historical',\n",
    "            'https://www.nasdaq.com/market-activity/stocks/fb/historical',\n",
    "            'https://www.nasdaq.com/market-activity/stocks/tsla/historical',\n",
    "            'https://www.nasdaq.com/market-activity/stocks/msft/historical'\n",
    "            ]\n",
    "    companies = ['Alphabet', 'Apple', 'Amazon', 'Facebook', 'Tesla', 'Microsoft']\n",
    "    for index in range(len(urls)):\n",
    "        browser.get(urls[index])\n",
    "        # browser.get(urls[i])\n",
    "        time.sleep(4)\n",
    "        try:\n",
    "            close = browser.find_element_by_id('_evh-ric-c')\n",
    "            ActionChains(browser).click(close).perform()\n",
    "        except NoSuchElementException:\n",
    "            pass\n",
    "        expand = browser.find_element_by_xpath('//button[text()=\"MAX\"]')\n",
    "        ActionChains(browser).click(expand).perform()\n",
    "        browser.execute_script(\"window.scrollTo(0, 450)\")\n",
    "        i = 0\n",
    "        while i < 70:\n",
    "            rows = browser.find_elements_by_class_name('historical-data__row')\n",
    "            for row in rows:\n",
    "                row_data = row.text.split(' ')\n",
    "                row_data.append(companies[index])\n",
    "                data.loc[len(data), :] = row_data\n",
    "            print(data)\n",
    "\n",
    "            next_button = browser.find_element_by_class_name('pagination__next')\n",
    "            ActionChains(browser).click(next_button).perform()\n",
    "            time.sleep(30)\n",
    "            i += 1\n",
    "\n",
    "    data.to_csv('stock_data.csv', sep='\\t', index=False)"
   ]
  },
  {
   "cell_type": "markdown",
   "metadata": {},
   "source": [
    "# I/ Dữ liệu"
   ]
  },
  {
   "cell_type": "markdown",
   "metadata": {},
   "source": [
    "### Thông tin về dữ liệu:\n"
   ]
  },
  {
   "cell_type": "markdown",
   "metadata": {},
   "source": [
    "Trong sổ tay này, chúng ta sẽ xem xét dữ liệu từ thị trường chứng khoán, đặc biệt là một số cổ phiếu công nghệ. Sử dụng pandas để lấy thông tin cổ phiếu, hình dung các khía cạnh khác nhau của nó và cuối cùng ta sẽ xem xét một số cách phân tích rủi ro của cổ phiếu, dựa trên lịch sử hoạt động trước đó của nó. Chúng tôi cũng sẽ dự đoán giá cổ phiếu trong tương lai thông qua phương pháp Long Short Term Memory (LSTM)! \n",
    "\n",
    "**Nguồn:**"
   ]
  },
  {
   "cell_type": "markdown",
   "metadata": {},
   "source": [
    "---"
   ]
  },
  {
   "cell_type": "markdown",
   "metadata": {},
   "source": [
    "# II/ Khám phá dữ liệu:"
   ]
  },
  {
   "cell_type": "markdown",
   "metadata": {},
   "source": [
    "### Import"
   ]
  },
  {
   "cell_type": "code",
   "execution_count": 2,
   "metadata": {},
   "outputs": [],
   "source": [
    "import matplotlib.pyplot as plt\n",
    "import matplotlib.colors\n",
    "import seaborn as sns\n",
    "import pandas as pd\n",
    "import numpy as np\n",
    "from sklearn.model_selection import train_test_split\n",
    "from sklearn.linear_model import LinearRegression\n",
    "from sklearn.metrics import mean_squared_error\n",
    "from sklearn.preprocessing import MinMaxScaler\n",
    "from keras.models import Sequential\n",
    "from keras.layers import Dense, LSTM\n",
    "\n",
    "\n",
    "sns.set_style('whitegrid')\n",
    "plt.style.use(\"fivethirtyeight\")\n",
    "%matplotlib inline"
   ]
  },
  {
   "cell_type": "markdown",
   "metadata": {},
   "source": [
    "### Đọc dữ liệu từ file csv vào dataframe"
   ]
  },
  {
   "cell_type": "code",
   "execution_count": 3,
   "metadata": {},
   "outputs": [
    {
     "data": {
      "text/html": [
       "<div>\n",
       "<style scoped>\n",
       "    .dataframe tbody tr th:only-of-type {\n",
       "        vertical-align: middle;\n",
       "    }\n",
       "\n",
       "    .dataframe tbody tr th {\n",
       "        vertical-align: top;\n",
       "    }\n",
       "\n",
       "    .dataframe thead th {\n",
       "        text-align: right;\n",
       "    }\n",
       "</style>\n",
       "<table border=\"1\" class=\"dataframe\">\n",
       "  <thead>\n",
       "    <tr style=\"text-align: right;\">\n",
       "      <th></th>\n",
       "      <th>Date</th>\n",
       "      <th>Close/Last</th>\n",
       "      <th>Volume</th>\n",
       "      <th>Open</th>\n",
       "      <th>High</th>\n",
       "      <th>Low</th>\n",
       "      <th>Company</th>\n",
       "    </tr>\n",
       "  </thead>\n",
       "  <tbody>\n",
       "    <tr>\n",
       "      <th>0</th>\n",
       "      <td>12/22/2020</td>\n",
       "      <td>$1720.22</td>\n",
       "      <td>1018829</td>\n",
       "      <td>$1729.33</td>\n",
       "      <td>$1732.6123</td>\n",
       "      <td>$1705.78</td>\n",
       "      <td>Alphabet</td>\n",
       "    </tr>\n",
       "    <tr>\n",
       "      <th>1</th>\n",
       "      <td>12/21/2020</td>\n",
       "      <td>$1734.56</td>\n",
       "      <td>1698707</td>\n",
       "      <td>$1709.13</td>\n",
       "      <td>$1737</td>\n",
       "      <td>$1694</td>\n",
       "      <td>Alphabet</td>\n",
       "    </tr>\n",
       "    <tr>\n",
       "      <th>2</th>\n",
       "      <td>12/18/2020</td>\n",
       "      <td>$1726.22</td>\n",
       "      <td>4262837</td>\n",
       "      <td>$1746.17</td>\n",
       "      <td>$1748.36</td>\n",
       "      <td>$1715</td>\n",
       "      <td>Alphabet</td>\n",
       "    </tr>\n",
       "    <tr>\n",
       "      <th>3</th>\n",
       "      <td>12/17/2020</td>\n",
       "      <td>$1740.51</td>\n",
       "      <td>1744005</td>\n",
       "      <td>$1763.93</td>\n",
       "      <td>$1766.71</td>\n",
       "      <td>$1731.15</td>\n",
       "      <td>Alphabet</td>\n",
       "    </tr>\n",
       "    <tr>\n",
       "      <th>4</th>\n",
       "      <td>12/16/2020</td>\n",
       "      <td>$1757.19</td>\n",
       "      <td>1233836</td>\n",
       "      <td>$1769.11</td>\n",
       "      <td>$1769.11</td>\n",
       "      <td>$1749.06</td>\n",
       "      <td>Alphabet</td>\n",
       "    </tr>\n",
       "  </tbody>\n",
       "</table>\n",
       "</div>"
      ],
      "text/plain": [
       "         Date  Close/Last   Volume       Open         High        Low  \\\n",
       "0  12/22/2020    $1720.22  1018829   $1729.33   $1732.6123   $1705.78   \n",
       "1  12/21/2020    $1734.56  1698707   $1709.13        $1737      $1694   \n",
       "2  12/18/2020    $1726.22  4262837   $1746.17     $1748.36      $1715   \n",
       "3  12/17/2020    $1740.51  1744005   $1763.93     $1766.71   $1731.15   \n",
       "4  12/16/2020    $1757.19  1233836   $1769.11     $1769.11   $1749.06   \n",
       "\n",
       "    Company  \n",
       "0  Alphabet  \n",
       "1  Alphabet  \n",
       "2  Alphabet  \n",
       "3  Alphabet  \n",
       "4  Alphabet  "
      ]
     },
     "execution_count": 3,
     "metadata": {},
     "output_type": "execute_result"
    }
   ],
   "source": [
    "df = pd.read_csv(\"stock_data.csv\", sep = '\\t')\n",
    "df.head()"
   ]
  },
  {
   "cell_type": "markdown",
   "metadata": {},
   "source": [
    "### Thông tin thuộc tính:"
   ]
  },
  {
   "cell_type": "code",
   "execution_count": 4,
   "metadata": {},
   "outputs": [
    {
     "name": "stdout",
     "output_type": "stream",
     "text": [
      "Dữ liệu có 14734 dòng, 7 cột.\n"
     ]
    }
   ],
   "source": [
    "num_rows, num_cols = df.shape\n",
    "print(\"Dữ liệu có {} dòng, {} cột.\".format(num_rows, num_cols))"
   ]
  },
  {
   "cell_type": "code",
   "execution_count": 5,
   "metadata": {},
   "outputs": [
    {
     "name": "stdout",
     "output_type": "stream",
     "text": [
      "<class 'pandas.core.frame.DataFrame'>\n",
      "RangeIndex: 14734 entries, 0 to 14733\n",
      "Data columns (total 7 columns):\n",
      " #   Column       Non-Null Count  Dtype \n",
      "---  ------       --------------  ----- \n",
      " 0   Date         14734 non-null  object\n",
      " 1    Close/Last  14734 non-null  object\n",
      " 2    Volume      14734 non-null  int64 \n",
      " 3    Open        14734 non-null  object\n",
      " 4    High        14734 non-null  object\n",
      " 5    Low         14734 non-null  object\n",
      " 6   Company      14734 non-null  object\n",
      "dtypes: int64(1), object(6)\n",
      "memory usage: 805.9+ KB\n"
     ]
    }
   ],
   "source": [
    "df.info()"
   ]
  },
  {
   "cell_type": "markdown",
   "metadata": {},
   "source": [
    "---"
   ]
  },
  {
   "cell_type": "markdown",
   "metadata": {},
   "source": [
    "## Tiền xử lý:"
   ]
  },
  {
   "cell_type": "markdown",
   "metadata": {},
   "source": [
    "- Kiểm tra dữ thông tin dữ liệu: kiểu dữ liệu của các thuộc tính, các cột có bị thiếu giá trị hay không?..."
   ]
  },
  {
   "cell_type": "code",
   "execution_count": 6,
   "metadata": {
    "scrolled": false
   },
   "outputs": [
    {
     "name": "stdout",
     "output_type": "stream",
     "text": [
      "<class 'pandas.core.frame.DataFrame'>\n",
      "RangeIndex: 14734 entries, 0 to 14733\n",
      "Data columns (total 7 columns):\n",
      " #   Column       Non-Null Count  Dtype \n",
      "---  ------       --------------  ----- \n",
      " 0   Date         14734 non-null  object\n",
      " 1    Close/Last  14734 non-null  object\n",
      " 2    Volume      14734 non-null  int64 \n",
      " 3    Open        14734 non-null  object\n",
      " 4    High        14734 non-null  object\n",
      " 5    Low         14734 non-null  object\n",
      " 6   Company      14734 non-null  object\n",
      "dtypes: int64(1), object(6)\n",
      "memory usage: 805.9+ KB\n",
      "=> Không có ô giá trị nào bị thiếu.\n"
     ]
    }
   ],
   "source": [
    "#xem thông tin data:\n",
    "df.info()\n",
    "\n",
    "if df.isnull().values.any() == False:\n",
    "    print(\"=> Không có ô giá trị nào bị thiếu.\")\n",
    "else:\n",
    "    print(\"Dữ liệu bị thiếu.\")"
   ]
  },
  {
   "cell_type": "markdown",
   "metadata": {},
   "source": [
    "- Định dạng lại kiểu dữ liệu cho phù hợp."
   ]
  },
  {
   "cell_type": "code",
   "execution_count": 7,
   "metadata": {},
   "outputs": [],
   "source": [
    "df = pd.read_csv(\"stock_data.csv\", sep = '\\t')\n",
    "\n",
    "#Định dạng lại cột Date sang kiểu dữ liệu datetime\n",
    "df[\"Date\"] = pd.to_datetime(df[\"Date\"])\n",
    "#Xóa khoảng trắng trong dữ liệu:\n",
    "df.columns = df.columns.str.replace(' ', '') \n",
    "df.replace(' ', '', regex=True, inplace = True)\n",
    "\n",
    "#Chuyển cột có ký hiệu tiền tệ ($) sang dạng datetime:\n",
    "df['Close/Last'] = df['Close/Last'].str.replace('$', '').astype(float)\n",
    "df['Open'] = df['Open'].str.replace('$', '').astype(float)\n",
    "df['High'] = df['High'].str.replace('$', '').astype(float)\n",
    "df['Low'] = df['Low'].str.replace('$', '').astype(float)\n",
    "\n",
    "#Sắp xếp cổ phiếu tăng dần theo ngày:\n",
    "df.sort_values(['Company', 'Date'], ascending=[True, True], inplace = True)\n",
    "\n",
    "company_name = list(df[\"Company\"].unique())"
   ]
  },
  {
   "cell_type": "markdown",
   "metadata": {},
   "source": [
    "- Thêm ngày bị thiếu:"
   ]
  },
  {
   "cell_type": "code",
   "execution_count": 8,
   "metadata": {},
   "outputs": [
    {
     "name": "stderr",
     "output_type": "stream",
     "text": [
      "<ipython-input-8-6af9892faa15>:5: SettingWithCopyWarning: \n",
      "A value is trying to be set on a copy of a slice from a DataFrame.\n",
      "Try using .loc[row_indexer,col_indexer] = value instead\n",
      "\n",
      "See the caveats in the documentation: https://pandas.pydata.org/pandas-docs/stable/user_guide/indexing.html#returning-a-view-versus-a-copy\n",
      "  one_company_df['Date'] = pd.to_datetime(one_company_df['Date'])\n"
     ]
    }
   ],
   "source": [
    "data = pd.DataFrame(columns=df.columns)\n",
    "companies = df['Company'].unique()\n",
    "for company in companies:\n",
    "    one_company_df = df[df['Company'] == company]\n",
    "    one_company_df['Date'] = pd.to_datetime(one_company_df['Date'])\n",
    "    one_company_df = one_company_df.sort_values(by=['Date'], ascending=True)\n",
    "    one_company_df.set_index('Date', inplace=True)\n",
    "    one_company_df = one_company_df.resample('D').bfill().reset_index()\n",
    "    one_company_df = one_company_df.sort_values(by=['Date'], ascending=False).reset_index()\n",
    "    data = data.append(one_company_df)\n",
    "data = data.drop('index', axis=1).reset_index(drop=True)"
   ]
  },
  {
   "cell_type": "markdown",
   "metadata": {},
   "source": [
    "- Dữ liệu sau khi tiền xử lý:"
   ]
  },
  {
   "cell_type": "code",
   "execution_count": 9,
   "metadata": {
    "scrolled": false
   },
   "outputs": [
    {
     "name": "stdout",
     "output_type": "stream",
     "text": [
      "<class 'pandas.core.frame.DataFrame'>\n",
      "RangeIndex: 21376 entries, 0 to 21375\n",
      "Data columns (total 7 columns):\n",
      " #   Column      Non-Null Count  Dtype         \n",
      "---  ------      --------------  -----         \n",
      " 0   Date        21376 non-null  datetime64[ns]\n",
      " 1   Close/Last  21376 non-null  float64       \n",
      " 2   Volume      21376 non-null  object        \n",
      " 3   Open        21376 non-null  float64       \n",
      " 4   High        21376 non-null  float64       \n",
      " 5   Low         21376 non-null  float64       \n",
      " 6   Company     21376 non-null  object        \n",
      "dtypes: datetime64[ns](1), float64(4), object(2)\n",
      "memory usage: 1.1+ MB\n"
     ]
    },
    {
     "data": {
      "text/html": [
       "<div>\n",
       "<style scoped>\n",
       "    .dataframe tbody tr th:only-of-type {\n",
       "        vertical-align: middle;\n",
       "    }\n",
       "\n",
       "    .dataframe tbody tr th {\n",
       "        vertical-align: top;\n",
       "    }\n",
       "\n",
       "    .dataframe thead th {\n",
       "        text-align: right;\n",
       "    }\n",
       "</style>\n",
       "<table border=\"1\" class=\"dataframe\">\n",
       "  <thead>\n",
       "    <tr style=\"text-align: right;\">\n",
       "      <th></th>\n",
       "      <th>Date</th>\n",
       "      <th>Close/Last</th>\n",
       "      <th>Volume</th>\n",
       "      <th>Open</th>\n",
       "      <th>High</th>\n",
       "      <th>Low</th>\n",
       "      <th>Company</th>\n",
       "    </tr>\n",
       "  </thead>\n",
       "  <tbody>\n",
       "    <tr>\n",
       "      <th>0</th>\n",
       "      <td>2020-12-22</td>\n",
       "      <td>1720.22</td>\n",
       "      <td>1018829</td>\n",
       "      <td>1729.33</td>\n",
       "      <td>1732.6123</td>\n",
       "      <td>1705.78</td>\n",
       "      <td>Alphabet</td>\n",
       "    </tr>\n",
       "    <tr>\n",
       "      <th>1</th>\n",
       "      <td>2020-12-21</td>\n",
       "      <td>1734.56</td>\n",
       "      <td>1698707</td>\n",
       "      <td>1709.13</td>\n",
       "      <td>1737.0000</td>\n",
       "      <td>1694.00</td>\n",
       "      <td>Alphabet</td>\n",
       "    </tr>\n",
       "    <tr>\n",
       "      <th>2</th>\n",
       "      <td>2020-12-20</td>\n",
       "      <td>1734.56</td>\n",
       "      <td>1698707</td>\n",
       "      <td>1709.13</td>\n",
       "      <td>1737.0000</td>\n",
       "      <td>1694.00</td>\n",
       "      <td>Alphabet</td>\n",
       "    </tr>\n",
       "    <tr>\n",
       "      <th>3</th>\n",
       "      <td>2020-12-19</td>\n",
       "      <td>1734.56</td>\n",
       "      <td>1698707</td>\n",
       "      <td>1709.13</td>\n",
       "      <td>1737.0000</td>\n",
       "      <td>1694.00</td>\n",
       "      <td>Alphabet</td>\n",
       "    </tr>\n",
       "    <tr>\n",
       "      <th>4</th>\n",
       "      <td>2020-12-18</td>\n",
       "      <td>1726.22</td>\n",
       "      <td>4262837</td>\n",
       "      <td>1746.17</td>\n",
       "      <td>1748.3600</td>\n",
       "      <td>1715.00</td>\n",
       "      <td>Alphabet</td>\n",
       "    </tr>\n",
       "  </tbody>\n",
       "</table>\n",
       "</div>"
      ],
      "text/plain": [
       "        Date  Close/Last   Volume     Open       High      Low   Company\n",
       "0 2020-12-22     1720.22  1018829  1729.33  1732.6123  1705.78  Alphabet\n",
       "1 2020-12-21     1734.56  1698707  1709.13  1737.0000  1694.00  Alphabet\n",
       "2 2020-12-20     1734.56  1698707  1709.13  1737.0000  1694.00  Alphabet\n",
       "3 2020-12-19     1734.56  1698707  1709.13  1737.0000  1694.00  Alphabet\n",
       "4 2020-12-18     1726.22  4262837  1746.17  1748.3600  1715.00  Alphabet"
      ]
     },
     "execution_count": 9,
     "metadata": {},
     "output_type": "execute_result"
    }
   ],
   "source": [
    "data.info()\n",
    "data.head()"
   ]
  },
  {
   "cell_type": "code",
   "execution_count": 10,
   "metadata": {
    "scrolled": true
   },
   "outputs": [
    {
     "data": {
      "text/html": [
       "<div>\n",
       "<style scoped>\n",
       "    .dataframe tbody tr th:only-of-type {\n",
       "        vertical-align: middle;\n",
       "    }\n",
       "\n",
       "    .dataframe tbody tr th {\n",
       "        vertical-align: top;\n",
       "    }\n",
       "\n",
       "    .dataframe thead th {\n",
       "        text-align: right;\n",
       "    }\n",
       "</style>\n",
       "<table border=\"1\" class=\"dataframe\">\n",
       "  <thead>\n",
       "    <tr style=\"text-align: right;\">\n",
       "      <th></th>\n",
       "      <th>Close/Last</th>\n",
       "      <th>Open</th>\n",
       "      <th>High</th>\n",
       "      <th>Low</th>\n",
       "    </tr>\n",
       "  </thead>\n",
       "  <tbody>\n",
       "    <tr>\n",
       "      <th>count</th>\n",
       "      <td>21376.000000</td>\n",
       "      <td>21376.000000</td>\n",
       "      <td>21376.000000</td>\n",
       "      <td>21376.000000</td>\n",
       "    </tr>\n",
       "    <tr>\n",
       "      <th>mean</th>\n",
       "      <td>336.354891</td>\n",
       "      <td>336.165136</td>\n",
       "      <td>339.832536</td>\n",
       "      <td>332.419078</td>\n",
       "    </tr>\n",
       "    <tr>\n",
       "      <th>std</th>\n",
       "      <td>527.614211</td>\n",
       "      <td>527.359682</td>\n",
       "      <td>533.480370</td>\n",
       "      <td>521.094802</td>\n",
       "    </tr>\n",
       "    <tr>\n",
       "      <th>min</th>\n",
       "      <td>4.366000</td>\n",
       "      <td>4.356000</td>\n",
       "      <td>4.454000</td>\n",
       "      <td>4.222000</td>\n",
       "    </tr>\n",
       "    <tr>\n",
       "      <th>25%</th>\n",
       "      <td>38.936250</td>\n",
       "      <td>38.840625</td>\n",
       "      <td>39.320000</td>\n",
       "      <td>38.332500</td>\n",
       "    </tr>\n",
       "    <tr>\n",
       "      <th>50%</th>\n",
       "      <td>94.525000</td>\n",
       "      <td>94.990000</td>\n",
       "      <td>96.105000</td>\n",
       "      <td>93.716250</td>\n",
       "    </tr>\n",
       "    <tr>\n",
       "      <th>75%</th>\n",
       "      <td>358.702500</td>\n",
       "      <td>358.633750</td>\n",
       "      <td>361.830925</td>\n",
       "      <td>354.485000</td>\n",
       "    </tr>\n",
       "    <tr>\n",
       "      <th>max</th>\n",
       "      <td>3531.450000</td>\n",
       "      <td>3547.000000</td>\n",
       "      <td>3552.250000</td>\n",
       "      <td>3486.685000</td>\n",
       "    </tr>\n",
       "  </tbody>\n",
       "</table>\n",
       "</div>"
      ],
      "text/plain": [
       "         Close/Last          Open          High           Low\n",
       "count  21376.000000  21376.000000  21376.000000  21376.000000\n",
       "mean     336.354891    336.165136    339.832536    332.419078\n",
       "std      527.614211    527.359682    533.480370    521.094802\n",
       "min        4.366000      4.356000      4.454000      4.222000\n",
       "25%       38.936250     38.840625     39.320000     38.332500\n",
       "50%       94.525000     94.990000     96.105000     93.716250\n",
       "75%      358.702500    358.633750    361.830925    354.485000\n",
       "max     3531.450000   3547.000000   3552.250000   3486.685000"
      ]
     },
     "execution_count": 10,
     "metadata": {},
     "output_type": "execute_result"
    }
   ],
   "source": [
    "# Summary Stats\n",
    "data.describe()"
   ]
  },
  {
   "cell_type": "code",
   "execution_count": 11,
   "metadata": {
    "scrolled": true
   },
   "outputs": [
    {
     "data": {
      "text/plain": [
       "Date          0.0\n",
       "Close/Last    0.0\n",
       "Volume        0.0\n",
       "Open          0.0\n",
       "High          0.0\n",
       "Low           0.0\n",
       "Company       0.0\n",
       "dtype: float64"
      ]
     },
     "execution_count": 11,
     "metadata": {},
     "output_type": "execute_result"
    }
   ],
   "source": [
    "100 * data.isnull().sum() / len(df)"
   ]
  },
  {
   "cell_type": "code",
   "execution_count": 12,
   "metadata": {},
   "outputs": [
    {
     "data": {
      "image/png": "[encoded data removed]",
      "text/plain": [
       "<Figure size 432x288 with 1 Axes>"
      ]
     },
     "metadata": {
      "needs_background": "light"
     },
     "output_type": "display_data"
    }
   ],
   "source": [
    "sns.kdeplot(df['Close/Last'], shade=True)\n",
    "plt.show()"
   ]
  },
  {
   "cell_type": "markdown",
   "metadata": {},
   "source": [
    "# III/ Đặt câu hỏi:\n",
    "- 1.\n",
    "\n",
    "- 2. \n",
    "\n",
    "- 3.\n",
    "\n",
    "- 4. \n",
    "\n",
    "- 5. \n"
   ]
  },
  {
   "cell_type": "markdown",
   "metadata": {},
   "source": [
    "---"
   ]
  },
  {
   "cell_type": "markdown",
   "metadata": {},
   "source": [
    "# IV/ Tìm câu trả lời:"
   ]
  },
  {
   "cell_type": "markdown",
   "metadata": {},
   "source": [
    "- **<font color=red> 1. Liệu trình độ học vấn của cha mẹ có quyết định đến thành tích học tập của con ở trường hay không? </font>**"
   ]
  },
  {
   "cell_type": "markdown",
   "metadata": {},
   "source": [
    "Để giải quyết câu hỏi này, ta cần quan tâm đến 3 cột thuộc tính **Medu**, **Fedu** và **Grade**. \n",
    "\n",
    "Tạo hàm <font color=blue> percent_family_edu </font>(data) với đầu vào là data đang xét, xuất một Series với Index là học vấn của cha mẹ và Values là phần trăm có con đạt điểm A."
   ]
  },
  {
   "cell_type": "code",
   "execution_count": 13,
   "metadata": {},
   "outputs": [],
   "source": [
    "def get_records_in_time_period(df, company_name, start_date, end_date):\n",
    "    company_df = df[df['Company'] == company_name]\n",
    "    time_period_filter = (company_df['Date'] >= start_date) & (company_df['Date'] <= end_date)\n",
    "    return company_df.loc[time_period_filter]\n",
    "\n",
    "\n",
    "k = get_records_in_time_period(data, 'Apple', '2019-12-1', '2020-12-1')"
   ]
  },
  {
   "cell_type": "code",
   "execution_count": 14,
   "metadata": {},
   "outputs": [],
   "source": [
    "def lstm_model(df, company_name, input_len=100):\n",
    "    stock = df[df['Company'] == company_name]['Close/Last'].values\n",
    "    stock = stock.reshape(len(stock), 1)\n",
    "    scaler = MinMaxScaler(feature_range=(0, 1))\n",
    "    scaled_stock = scaler.fit_transform(stock)\n",
    "\n",
    "    train_values = scaled_stock[:int(len(stock) * 0.8)]\n",
    "    X_train, Y_train = [], []\n",
    "\n",
    "    for i in range(input_len, len(train_values)):\n",
    "        X_train.append(train_values[i - 100:i])\n",
    "        Y_train.append(train_values[i])\n",
    "\n",
    "    X_train = np.array(X_train)\n",
    "    Y_train = np.array(Y_train)\n",
    "    X_train = np.reshape(X_train, (X_train.shape[0], X_train.shape[1], 1))\n",
    "\n",
    "    model = Sequential()\n",
    "    model.add(LSTM(128, return_sequences=True, input_shape=(X_train.shape[1], 1)))\n",
    "    model.add(LSTM(64, return_sequences=False))\n",
    "    model.add(Dense(25))\n",
    "    model.add(Dense(1))\n",
    "    model.compile(optimizer='adam', loss='mean_squared_error')\n",
    "    model.fit(X_train, Y_train, batch_size=1, epochs=1)\n",
    "\n",
    "    return model\n"
   ]
  },
  {
   "cell_type": "code",
   "execution_count": 15,
   "metadata": {},
   "outputs": [
    {
     "data": {
      "text/html": [
       "<div>\n",
       "<style scoped>\n",
       "    .dataframe tbody tr th:only-of-type {\n",
       "        vertical-align: middle;\n",
       "    }\n",
       "\n",
       "    .dataframe tbody tr th {\n",
       "        vertical-align: top;\n",
       "    }\n",
       "\n",
       "    .dataframe thead th {\n",
       "        text-align: right;\n",
       "    }\n",
       "</style>\n",
       "<table border=\"1\" class=\"dataframe\">\n",
       "  <thead>\n",
       "    <tr style=\"text-align: right;\">\n",
       "      <th></th>\n",
       "      <th>Date</th>\n",
       "      <th>Close/Last</th>\n",
       "      <th>Volume</th>\n",
       "      <th>Open</th>\n",
       "      <th>High</th>\n",
       "      <th>Low</th>\n",
       "      <th>Company</th>\n",
       "    </tr>\n",
       "  </thead>\n",
       "  <tbody>\n",
       "    <tr>\n",
       "      <th>3647</th>\n",
       "      <td>2020-12-22</td>\n",
       "      <td>3206.52</td>\n",
       "      <td>2381781</td>\n",
       "      <td>3202.843</td>\n",
       "      <td>3222.0000</td>\n",
       "      <td>3180.08</td>\n",
       "      <td>Amazon</td>\n",
       "    </tr>\n",
       "    <tr>\n",
       "      <th>3648</th>\n",
       "      <td>2020-12-21</td>\n",
       "      <td>3206.18</td>\n",
       "      <td>3836846</td>\n",
       "      <td>3200.010</td>\n",
       "      <td>3226.9666</td>\n",
       "      <td>3166.00</td>\n",
       "      <td>Amazon</td>\n",
       "    </tr>\n",
       "    <tr>\n",
       "      <th>3649</th>\n",
       "      <td>2020-12-20</td>\n",
       "      <td>3206.18</td>\n",
       "      <td>3836846</td>\n",
       "      <td>3200.010</td>\n",
       "      <td>3226.9666</td>\n",
       "      <td>3166.00</td>\n",
       "      <td>Amazon</td>\n",
       "    </tr>\n",
       "    <tr>\n",
       "      <th>3650</th>\n",
       "      <td>2020-12-19</td>\n",
       "      <td>3206.18</td>\n",
       "      <td>3836846</td>\n",
       "      <td>3200.010</td>\n",
       "      <td>3226.9666</td>\n",
       "      <td>3166.00</td>\n",
       "      <td>Amazon</td>\n",
       "    </tr>\n",
       "    <tr>\n",
       "      <th>3651</th>\n",
       "      <td>2020-12-18</td>\n",
       "      <td>3201.65</td>\n",
       "      <td>5995713</td>\n",
       "      <td>3243.990</td>\n",
       "      <td>3249.4200</td>\n",
       "      <td>3171.60</td>\n",
       "      <td>Amazon</td>\n",
       "    </tr>\n",
       "    <tr>\n",
       "      <th>...</th>\n",
       "      <td>...</td>\n",
       "      <td>...</td>\n",
       "      <td>...</td>\n",
       "      <td>...</td>\n",
       "      <td>...</td>\n",
       "      <td>...</td>\n",
       "      <td>...</td>\n",
       "    </tr>\n",
       "    <tr>\n",
       "      <th>7289</th>\n",
       "      <td>2011-01-02</td>\n",
       "      <td>184.22</td>\n",
       "      <td>5324837</td>\n",
       "      <td>181.370</td>\n",
       "      <td>186.0000</td>\n",
       "      <td>181.21</td>\n",
       "      <td>Amazon</td>\n",
       "    </tr>\n",
       "    <tr>\n",
       "      <th>7290</th>\n",
       "      <td>2011-01-01</td>\n",
       "      <td>184.22</td>\n",
       "      <td>5324837</td>\n",
       "      <td>181.370</td>\n",
       "      <td>186.0000</td>\n",
       "      <td>181.21</td>\n",
       "      <td>Amazon</td>\n",
       "    </tr>\n",
       "    <tr>\n",
       "      <th>7291</th>\n",
       "      <td>2010-12-31</td>\n",
       "      <td>180.00</td>\n",
       "      <td>3449215</td>\n",
       "      <td>181.960</td>\n",
       "      <td>182.3000</td>\n",
       "      <td>179.51</td>\n",
       "      <td>Amazon</td>\n",
       "    </tr>\n",
       "    <tr>\n",
       "      <th>7292</th>\n",
       "      <td>2010-12-30</td>\n",
       "      <td>182.75</td>\n",
       "      <td>1960269</td>\n",
       "      <td>183.920</td>\n",
       "      <td>184.5500</td>\n",
       "      <td>182.75</td>\n",
       "      <td>Amazon</td>\n",
       "    </tr>\n",
       "    <tr>\n",
       "      <th>7293</th>\n",
       "      <td>2010-12-29</td>\n",
       "      <td>183.37</td>\n",
       "      <td>3120078</td>\n",
       "      <td>181.800</td>\n",
       "      <td>184.3500</td>\n",
       "      <td>180.41</td>\n",
       "      <td>Amazon</td>\n",
       "    </tr>\n",
       "  </tbody>\n",
       "</table>\n",
       "<p>3647 rows × 7 columns</p>\n",
       "</div>"
      ],
      "text/plain": [
       "           Date  Close/Last   Volume      Open       High      Low Company\n",
       "3647 2020-12-22     3206.52  2381781  3202.843  3222.0000  3180.08  Amazon\n",
       "3648 2020-12-21     3206.18  3836846  3200.010  3226.9666  3166.00  Amazon\n",
       "3649 2020-12-20     3206.18  3836846  3200.010  3226.9666  3166.00  Amazon\n",
       "3650 2020-12-19     3206.18  3836846  3200.010  3226.9666  3166.00  Amazon\n",
       "3651 2020-12-18     3201.65  5995713  3243.990  3249.4200  3171.60  Amazon\n",
       "...         ...         ...      ...       ...        ...      ...     ...\n",
       "7289 2011-01-02      184.22  5324837   181.370   186.0000   181.21  Amazon\n",
       "7290 2011-01-01      184.22  5324837   181.370   186.0000   181.21  Amazon\n",
       "7291 2010-12-31      180.00  3449215   181.960   182.3000   179.51  Amazon\n",
       "7292 2010-12-30      182.75  1960269   183.920   184.5500   182.75  Amazon\n",
       "7293 2010-12-29      183.37  3120078   181.800   184.3500   180.41  Amazon\n",
       "\n",
       "[3647 rows x 7 columns]"
      ]
     },
     "execution_count": 15,
     "metadata": {},
     "output_type": "execute_result"
    }
   ],
   "source": [
    "data[data['Company'] == 'Amazon']"
   ]
  },
  {
   "cell_type": "code",
   "execution_count": 16,
   "metadata": {},
   "outputs": [
    {
     "data": {
      "image/png": "[encoded data removed]",
      "text/plain": [
       "<Figure size 1440x720 with 6 Axes>"
      ]
     },
     "metadata": {
      "needs_background": "light"
     },
     "output_type": "display_data"
    }
   ],
   "source": [
    "plt.figure(figsize=(20, 10))\n",
    "plt.subplots_adjust(top=1.25, bottom=1.2)\n",
    "\n",
    "for i, company in enumerate(company_name, 1):\n",
    "    plt.subplot(2, 3, i)\n",
    "    data[data['Company'] == company]['Close/Last'].plot(linewidth=2.0)\n",
    "    plt.ylabel('Close/Last')\n",
    "    plt.xlabel(None)\n",
    "    plt.title(f\"{company_name[i - 1]}\")"
   ]
  },
  {
   "cell_type": "markdown",
   "metadata": {},
   "source": [
    "\\- Trực quan kết quả bằng biểu đồ cột:"
   ]
  },
  {
   "cell_type": "markdown",
   "metadata": {},
   "source": [
    "**Kết luận:** Dựa vào biểu đồ trên, ta thấy biểu đồ có xu hướng tăng dần qua các mốc học vấn của cha mẹ, có thể nói cha mẹ càng có học vấn cao thì con của họ càng giỏi. Kết quả này thu được có thể do gen di truyền từ bố mẹ và môi trường học tập mà con cái nhận được sự quan tâm, chỉ bảo từ gia đình. "
   ]
  },
  {
   "cell_type": "markdown",
   "metadata": {},
   "source": [
    "---"
   ]
  },
  {
   "cell_type": "markdown",
   "metadata": {},
   "source": [
    "---"
   ]
  },
  {
   "cell_type": "markdown",
   "metadata": {},
   "source": [
    "- **<font color=red> 2. Tạo mô hình huấn luyện để dự đoán giá</font>**"
   ]
  },
  {
   "cell_type": "markdown",
   "metadata": {},
   "source": [
    "Để tạo mô hình huấn luyện, bước đầu tiên ta cần phải chuẩn bị dữ liệu cho mô hình. Ở đây, ta sẽ làm việc với cột giá trị stock lúc đóng phiên giao dịch của Alphabet. Sau đó chuẩn hóa dữ liệu bằng `MinMaxScaler` của sklearn. "
   ]
  },
  {
   "cell_type": "code",
   "execution_count": 17,
   "metadata": {
    "scrolled": false
   },
   "outputs": [
    {
     "data": {
      "text/plain": [
       "array([[0.04019269],\n",
       "       [0.03951071],\n",
       "       [0.03795231],\n",
       "       ...,\n",
       "       [0.93770057],\n",
       "       [0.94296211],\n",
       "       [0.93391529]])"
      ]
     },
     "execution_count": 17,
     "metadata": {},
     "output_type": "execute_result"
    }
   ],
   "source": [
    "alpha_stock = df[df['Company'] == 'Alphabet']['Close/Last'].values\n",
    "alpha_stock = alpha_stock.reshape(len(alpha_stock), 1)\n",
    "scaler = MinMaxScaler(feature_range=(0, 1))\n",
    "scaled_stock = scaler.fit_transform(alpha_stock)\n",
    "scaled_stock"
   ]
  },
  {
   "cell_type": "markdown",
   "metadata": {},
   "source": [
    "Với dữ liệu này, ta lấy 20% dòng cuối để làm giá trị test, còn lại ta dùng cho việc huấn luyện mô hình."
   ]
  },
  {
   "cell_type": "code",
   "execution_count": 18,
   "metadata": {},
   "outputs": [
    {
     "data": {
      "text/plain": [
       "array([[0.04019269],\n",
       "       [0.03951071],\n",
       "       [0.03795231],\n",
       "       ...,\n",
       "       [0.49441885],\n",
       "       [0.4740225 ],\n",
       "       [0.4698713 ]])"
      ]
     },
     "execution_count": 18,
     "metadata": {},
     "output_type": "execute_result"
    }
   ],
   "source": [
    "train_values = scaled_stock[:int(len(alpha_stock) * 0.8)]\n",
    "train_values"
   ]
  },
  {
   "cell_type": "markdown",
   "metadata": {},
   "source": [
    "Sau đó, tạo ra tập X_train và Y_train.\n",
    "- Với Y_train, ta lấy giá trị stock của một ngày.\n",
    "- Với X_train, ta lấy giá trị của 60 dòng trước ngày đó."
   ]
  },
  {
   "cell_type": "code",
   "execution_count": 19,
   "metadata": {},
   "outputs": [],
   "source": [
    "X_train, Y_train = [], []\n",
    "\n",
    "for i in range(120, len(train_values)):\n",
    "    X_train.append(train_values[i - 120:i])\n",
    "    Y_train.append(train_values[i])"
   ]
  },
  {
   "cell_type": "code",
   "execution_count": 20,
   "metadata": {
    "scrolled": true
   },
   "outputs": [],
   "source": [
    "X_train = np.array(X_train)\n",
    "Y_train = np.array(Y_train)\n",
    "X_train = np.reshape(X_train, (X_train.shape[0], X_train.shape[1], 1))"
   ]
  },
  {
   "cell_type": "markdown",
   "metadata": {},
   "source": [
    "Bắt đầu xây dựng mô hình huấn luyện."
   ]
  },
  {
   "cell_type": "code",
   "execution_count": 21,
   "metadata": {},
   "outputs": [
    {
     "name": "stdout",
     "output_type": "stream",
     "text": [
      "1891/1891 [==============================] - 54s 27ms/step - loss: 0.0016 0s - loss\n"
     ]
    },
    {
     "data": {
      "text/plain": [
       "<tensorflow.python.keras.callbacks.History at 0x236405c6c10>"
      ]
     },
     "execution_count": 21,
     "metadata": {},
     "output_type": "execute_result"
    }
   ],
   "source": [
    "model = Sequential()\n",
    "model.add(LSTM(128, return_sequences=True, input_shape= (X_train.shape[1], 1)))\n",
    "model.add(LSTM(64, return_sequences=False))\n",
    "model.add(Dense(25))\n",
    "model.add(Dense(1))\n",
    "model.compile(optimizer='adam', loss='mean_squared_error')\n",
    "model.fit(X_train, Y_train, batch_size=1, epochs=1)"
   ]
  },
  {
   "cell_type": "markdown",
   "metadata": {},
   "source": [
    "Sau khi tạo và huấn luyện mô hình cho tập huấn luyện, ta tạo dữ liệu cho tập test."
   ]
  },
  {
   "cell_type": "code",
   "execution_count": 22,
   "metadata": {},
   "outputs": [],
   "source": [
    "test_values = scaled_stock[int(len(alpha_stock) * 0.8) - 120:]"
   ]
  },
  {
   "cell_type": "code",
   "execution_count": 23,
   "metadata": {
    "scrolled": true
   },
   "outputs": [],
   "source": [
    "X_test = []\n",
    "Y_test = alpha_stock[int(len(alpha_stock) * 0.8):, :]\n",
    "\n",
    "for i in range(120, len(test_values)):\n",
    "    X_test.append(test_values[i - 120:i])\n",
    "\n",
    "X_test = np.array(X_test)\n",
    "X_test = np.reshape(X_test, (X_test.shape[0], X_test.shape[1], 1 ))\n"
   ]
  },
  {
   "cell_type": "markdown",
   "metadata": {},
   "source": [
    "Áp dụng mô hình cho tập dữ liệu test."
   ]
  },
  {
   "cell_type": "code",
   "execution_count": 24,
   "metadata": {},
   "outputs": [],
   "source": [
    "predictions = model.predict(X_test)\n",
    "predictions = scaler.inverse_transform(predictions)"
   ]
  },
  {
   "cell_type": "markdown",
   "metadata": {},
   "source": [
    "Tính độ lỗi RMSE cho tập dự đoán và tập test."
   ]
  },
  {
   "cell_type": "code",
   "execution_count": 25,
   "metadata": {},
   "outputs": [
    {
     "data": {
      "text/plain": [
       "49.871842101818636"
      ]
     },
     "execution_count": 25,
     "metadata": {},
     "output_type": "execute_result"
    }
   ],
   "source": [
    "rmse = np.sqrt(np.mean(((predictions - Y_test) ** 2)))\n",
    "rmse"
   ]
  }
 ],
 "metadata": {
  "kernelspec": {
   "display_name": "Python 3",
   "language": "python",
   "name": "python3"
  },
  "language_info": {
   "codemirror_mode": {
    "name": "ipython",
    "version": 3
   },
   "file_extension": ".py",
   "mimetype": "text/x-python",
   "name": "python",
   "nbconvert_exporter": "python",
   "pygments_lexer": "ipython3",
   "version": "3.8.3"
  }
 },
 "nbformat": 4,
 "nbformat_minor": 4
}
