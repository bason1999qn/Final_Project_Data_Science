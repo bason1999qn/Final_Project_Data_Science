{
 "cells": [
  {
   "cell_type": "markdown",
   "metadata": {},
   "source": [
    "\n",
    "<font size=\"5\">**<center> ĐỒ ÁN CUỐI KỲ </center>** </font>\n",
    "\n",
    "<font size=\"4\">**<center> kHOA HỌC DỮ LIỆU ỨNG DỤNG</center>** </font>\n",
    "\n",
    "> Họ tên: Thái Bá Sơn\n",
    "\n",
    "> MSSV: 1712732"
   ]
  },
  {
   "cell_type": "markdown",
   "metadata": {},
   "source": [
    "# I/ Khai thác dữ liệu:"
   ]
  },
  {
   "cell_type": "markdown",
   "metadata": {},
   "source": [
    "Dữ liệu khai thác từ: [đây](https://www.nasdaq.com/) \n",
    "\n",
    "Cấu trúc câu lệnh khai thác: 'https://www.nasdaq.com/market-activity/stocks/' + 'stock_code' + '/historical'\n"
   ]
  },
  {
   "cell_type": "markdown",
   "metadata": {},
   "source": [
    "# I/ Dữ liệu"
   ]
  },
  {
   "cell_type": "markdown",
   "metadata": {},
   "source": [
    "### Thông tin về dữ liệu:\n"
   ]
  },
  {
   "cell_type": "markdown",
   "metadata": {},
   "source": [
    "Trong sổ tay này, chúng ta sẽ xem xét dữ liệu từ thị trường chứng khoán, đặc biệt là một số cổ phiếu công nghệ. Sử dụng pandas để lấy thông tin cổ phiếu, hình dung các khía cạnh khác nhau của nó và cuối cùng ta sẽ xem xét một số cách phân tích rủi ro của cổ phiếu, dựa trên lịch sử hoạt động trước đó của nó. Chúng tôi cũng sẽ dự đoán giá cổ phiếu trong tương lai thông qua phương pháp Long Short Term Memory (LSTM)! \n",
    "\n",
    "**Nguồn:** "
   ]
  },
  {
   "cell_type": "markdown",
   "metadata": {},
   "source": [
    "---"
   ]
  },
  {
   "cell_type": "markdown",
   "metadata": {},
   "source": [
    "# II/ Khám phá dữ liệu:"
   ]
  },
  {
   "cell_type": "markdown",
   "metadata": {},
   "source": [
    "### Import"
   ]
  },
  {
   "cell_type": "code",
   "execution_count": 1,
   "metadata": {},
   "outputs": [],
   "source": [
    "import matplotlib.pyplot as plt\n",
    "import matplotlib.colors\n",
    "import seaborn as sns\n",
    "import pandas as pd\n",
    "import numpy as np\n",
    "from sklearn.model_selection import train_test_split\n",
    "from sklearn.linear_model import LinearRegression\n",
    "\n",
    "sns.set_style('whitegrid')\n",
    "plt.style.use(\"fivethirtyeight\")\n",
    "%matplotlib inline"
   ]
  },
  {
   "cell_type": "markdown",
   "metadata": {},
   "source": [
    "### Đọc dữ liệu từ file csv vào dataframe"
   ]
  },
  {
   "cell_type": "code",
   "execution_count": 2,
   "metadata": {},
   "outputs": [
    {
     "data": {
      "text/html": [
       "<div>\n",
       "<style scoped>\n",
       "    .dataframe tbody tr th:only-of-type {\n",
       "        vertical-align: middle;\n",
       "    }\n",
       "\n",
       "    .dataframe tbody tr th {\n",
       "        vertical-align: top;\n",
       "    }\n",
       "\n",
       "    .dataframe thead th {\n",
       "        text-align: right;\n",
       "    }\n",
       "</style>\n",
       "<table border=\"1\" class=\"dataframe\">\n",
       "  <thead>\n",
       "    <tr style=\"text-align: right;\">\n",
       "      <th></th>\n",
       "      <th>Date</th>\n",
       "      <th>Close/Last</th>\n",
       "      <th>Volume</th>\n",
       "      <th>Open</th>\n",
       "      <th>High</th>\n",
       "      <th>Low</th>\n",
       "      <th>Company</th>\n",
       "    </tr>\n",
       "  </thead>\n",
       "  <tbody>\n",
       "    <tr>\n",
       "      <th>0</th>\n",
       "      <td>12/15/2020</td>\n",
       "      <td>$1761.08</td>\n",
       "      <td>1068292</td>\n",
       "      <td>$1759.86</td>\n",
       "      <td>$1764</td>\n",
       "      <td>$1741.67</td>\n",
       "      <td>Alphabet</td>\n",
       "    </tr>\n",
       "    <tr>\n",
       "      <th>1</th>\n",
       "      <td>12/14/2020</td>\n",
       "      <td>$1752.26</td>\n",
       "      <td>1652471</td>\n",
       "      <td>$1770.72</td>\n",
       "      <td>$1789.8</td>\n",
       "      <td>$1749.13</td>\n",
       "      <td>Alphabet</td>\n",
       "    </tr>\n",
       "    <tr>\n",
       "      <th>2</th>\n",
       "      <td>12/11/2020</td>\n",
       "      <td>$1774.8</td>\n",
       "      <td>931431</td>\n",
       "      <td>$1760</td>\n",
       "      <td>$1777.31</td>\n",
       "      <td>$1752.74</td>\n",
       "      <td>Alphabet</td>\n",
       "    </tr>\n",
       "    <tr>\n",
       "      <th>3</th>\n",
       "      <td>12/10/2020</td>\n",
       "      <td>$1767.65</td>\n",
       "      <td>1434416</td>\n",
       "      <td>$1762.6</td>\n",
       "      <td>$1774.99</td>\n",
       "      <td>$1733.527</td>\n",
       "      <td>Alphabet</td>\n",
       "    </tr>\n",
       "    <tr>\n",
       "      <th>4</th>\n",
       "      <td>12/09/2020</td>\n",
       "      <td>$1777.86</td>\n",
       "      <td>1586426</td>\n",
       "      <td>$1810.36</td>\n",
       "      <td>$1828.37</td>\n",
       "      <td>$1762.0001</td>\n",
       "      <td>Alphabet</td>\n",
       "    </tr>\n",
       "  </tbody>\n",
       "</table>\n",
       "</div>"
      ],
      "text/plain": [
       "         Date  Close/Last   Volume       Open       High          Low  \\\n",
       "0  12/15/2020    $1761.08  1068292   $1759.86      $1764     $1741.67   \n",
       "1  12/14/2020    $1752.26  1652471   $1770.72    $1789.8     $1749.13   \n",
       "2  12/11/2020     $1774.8   931431      $1760   $1777.31     $1752.74   \n",
       "3  12/10/2020    $1767.65  1434416    $1762.6   $1774.99    $1733.527   \n",
       "4  12/09/2020    $1777.86  1586426   $1810.36   $1828.37   $1762.0001   \n",
       "\n",
       "    Company  \n",
       "0  Alphabet  \n",
       "1  Alphabet  \n",
       "2  Alphabet  \n",
       "3  Alphabet  \n",
       "4  Alphabet  "
      ]
     },
     "execution_count": 2,
     "metadata": {},
     "output_type": "execute_result"
    }
   ],
   "source": [
    "df = pd.read_csv(\"stock_data.csv\", sep = '\\t', index_col = 0)\n",
    "df.head()"
   ]
  },
  {
   "cell_type": "markdown",
   "metadata": {},
   "source": [
    "### Thông tin thuộc tính:"
   ]
  },
  {
   "cell_type": "code",
   "execution_count": 3,
   "metadata": {},
   "outputs": [
    {
     "name": "stdout",
     "output_type": "stream",
     "text": [
      "Dữ liệu có 7551 dòng, 7 cột.\n"
     ]
    }
   ],
   "source": [
    "num_rows, num_cols = df.shape\n",
    "print(\"Dữ liệu có {} dòng, {} cột.\".format(num_rows, num_cols))"
   ]
  },
  {
   "cell_type": "code",
   "execution_count": 4,
   "metadata": {},
   "outputs": [
    {
     "name": "stdout",
     "output_type": "stream",
     "text": [
      "<class 'pandas.core.frame.DataFrame'>\n",
      "Int64Index: 7551 entries, 0 to 7550\n",
      "Data columns (total 7 columns):\n",
      " #   Column       Non-Null Count  Dtype \n",
      "---  ------       --------------  ----- \n",
      " 0   Date         7551 non-null   object\n",
      " 1    Close/Last  7551 non-null   object\n",
      " 2    Volume      7551 non-null   int64 \n",
      " 3    Open        7551 non-null   object\n",
      " 4    High        7551 non-null   object\n",
      " 5    Low         7551 non-null   object\n",
      " 6   Company      7551 non-null   object\n",
      "dtypes: int64(1), object(6)\n",
      "memory usage: 471.9+ KB\n"
     ]
    }
   ],
   "source": [
    "df.info()"
   ]
  },
  {
   "cell_type": "code",
   "execution_count": 5,
   "metadata": {},
   "outputs": [
    {
     "data": {
      "text/plain": [
       "<bound method DataFrame.info of             Date  Close/Last    Volume       Open       High          Low  \\\n",
       "0     12/15/2020    $1761.08   1068292   $1759.86      $1764     $1741.67   \n",
       "1     12/14/2020    $1752.26   1652471   $1770.72    $1789.8     $1749.13   \n",
       "2     12/11/2020     $1774.8    931431      $1760   $1777.31     $1752.74   \n",
       "3     12/10/2020    $1767.65   1434416    $1762.6   $1774.99    $1733.527   \n",
       "4     12/09/2020    $1777.86   1586426   $1810.36   $1828.37   $1762.0001   \n",
       "...          ...         ...       ...        ...        ...          ...   \n",
       "7546  12/22/2015      $55.35  28305310     $54.99     $55.48        $54.5   \n",
       "7547  12/21/2015      $54.83  37221910     $54.88     $55.35     $54.2262   \n",
       "7548  12/18/2015      $54.13  84141520     $55.77        $56       $54.03   \n",
       "7549  12/17/2015       $55.7  41244620     $56.36     $56.79     $55.5348   \n",
       "7550  12/16/2015      $56.13  37473420     $55.54    $56.245       $54.76   \n",
       "\n",
       "        Company  \n",
       "0      Alphabet  \n",
       "1      Alphabet  \n",
       "2      Alphabet  \n",
       "3      Alphabet  \n",
       "4      Alphabet  \n",
       "...         ...  \n",
       "7546  Microsoft  \n",
       "7547  Microsoft  \n",
       "7548  Microsoft  \n",
       "7549  Microsoft  \n",
       "7550  Microsoft  \n",
       "\n",
       "[7551 rows x 7 columns]>"
      ]
     },
     "execution_count": 5,
     "metadata": {},
     "output_type": "execute_result"
    }
   ],
   "source": [
    "df.info"
   ]
  },
  {
   "cell_type": "markdown",
   "metadata": {},
   "source": [
    "Thông tin thuộc tính:\n",
    "- **Date**: Trường mà học sinh đang theo học (2 trường: 'GP' - Gabriel Pereira hoặc 'MS' - Mousinho da Silveira).\n",
    "- **Close/Last**: giới tính của học sinh (nhị phân: 'F' - nữ hoặc 'M' - nam).\n",
    "- **Volume**: tuổi của học sinh (số: từ 15 đến 22).\n",
    "- **Open**: loại địa chỉ nhà của sinh viên (nhị phân: 'U' - thành thị hoặc 'R' - nông thôn).\n",
    "- **High**: quy mô gia đình (nhị phân: 'LE3' - nhỏ hơn hoặc bằng 3 hoặc 'GT3' - lớn hơn 3).\n",
    "- **Low**: tình trạng chung sống của cha mẹ (nhị phân: 'T' - sống chung hoặc 'A' - xa nhau).\n",
    "- **Company**: giáo dục của mẹ (số: 0 - không, 1 - giáo dục tiểu học (lớp 4), 2 - lớp 5 đến lớp 9, 3 - giáo dục trung học hoặc 4 - giáo dục đại học)."
   ]
  },
  {
   "cell_type": "markdown",
   "metadata": {},
   "source": [
    "---"
   ]
  },
  {
   "cell_type": "markdown",
   "metadata": {},
   "source": [
    "## Tiền xử lý:"
   ]
  },
  {
   "cell_type": "markdown",
   "metadata": {},
   "source": [
    "- Kiểm tra dữ thông tin dữ liệu: kiểu dữ liệu của các thuộc tính, các cột có bị thiếu giá trị hay không?..."
   ]
  },
  {
   "cell_type": "code",
   "execution_count": 6,
   "metadata": {
    "scrolled": false
   },
   "outputs": [
    {
     "name": "stdout",
     "output_type": "stream",
     "text": [
      "<class 'pandas.core.frame.DataFrame'>\n",
      "Int64Index: 7551 entries, 0 to 7550\n",
      "Data columns (total 7 columns):\n",
      " #   Column       Non-Null Count  Dtype \n",
      "---  ------       --------------  ----- \n",
      " 0   Date         7551 non-null   object\n",
      " 1    Close/Last  7551 non-null   object\n",
      " 2    Volume      7551 non-null   int64 \n",
      " 3    Open        7551 non-null   object\n",
      " 4    High        7551 non-null   object\n",
      " 5    Low         7551 non-null   object\n",
      " 6   Company      7551 non-null   object\n",
      "dtypes: int64(1), object(6)\n",
      "memory usage: 471.9+ KB\n",
      "=> Không có ô giá trị nào bị thiếu.\n"
     ]
    }
   ],
   "source": [
    "#xem thông tin data:\n",
    "df.info()\n",
    "\n",
    "if df.isnull().values.any() == False:\n",
    "    print(\"=> Không có ô giá trị nào bị thiếu.\")\n",
    "else:\n",
    "    print(\"Dữ liệu bị thiếu.\")"
   ]
  },
  {
   "cell_type": "markdown",
   "metadata": {},
   "source": [
    "- Định dạng lại kiểu dữ liệu cho phù hợp."
   ]
  },
  {
   "cell_type": "code",
   "execution_count": 22,
   "metadata": {},
   "outputs": [],
   "source": [
    "df = pd.read_csv(\"stock_data.csv\", sep = '\\t', index_col = 0)\n",
    "\n",
    "#Định dạng lại cột Date sang kiểu dữ liệu datetime\n",
    "df[\"Date\"] = pd.to_datetime(df[\"Date\"])\n",
    "\n",
    "#Đặt index là ngày:\n",
    "df.set_index('Date', inplace = True)\n",
    "\n",
    "#Xóa khoảng trắng trong dữ liệu:\n",
    "df.columns = df.columns.str.replace(' ', '') \n",
    "df.replace(' ', '', regex=True, inplace = True)\n",
    "\n",
    "#Chuyển cột có ký hiệu tiền tệ ($) sang dạng datetime:\n",
    "df['Close/Last'] = df['Close/Last'].str.replace('$', '').astype(float)\n",
    "df['Open'] = df['Open'].str.replace('$', '').astype(float)\n",
    "df['High'] = df['High'].str.replace('$', '').astype(float)\n",
    "df['Low'] = df['Low'].str.replace('$', '').astype(float)\n",
    "\n",
    "#Sắp xếp cổ phiếu tăng dần theo ngày:\n",
    "df.sort_values(['Company', 'Date'], ascending=[True, True], inplace = True)\n",
    "\n",
    "company_name = list(df[\"Company\"].unique())"
   ]
  },
  {
   "cell_type": "markdown",
   "metadata": {},
   "source": [
    "- Dữ liệu sau khi tiền xử lý:"
   ]
  },
  {
   "cell_type": "code",
   "execution_count": 23,
   "metadata": {
    "scrolled": false
   },
   "outputs": [
    {
     "name": "stdout",
     "output_type": "stream",
     "text": [
      "<class 'pandas.core.frame.DataFrame'>\n",
      "DatetimeIndex: 7551 entries, 2015-12-16 to 2020-12-15\n",
      "Data columns (total 6 columns):\n",
      " #   Column      Non-Null Count  Dtype  \n",
      "---  ------      --------------  -----  \n",
      " 0   Close/Last  7551 non-null   float64\n",
      " 1   Volume      7551 non-null   int64  \n",
      " 2   Open        7551 non-null   float64\n",
      " 3   High        7551 non-null   float64\n",
      " 4   Low         7551 non-null   float64\n",
      " 5   Company     7551 non-null   object \n",
      "dtypes: float64(4), int64(1), object(1)\n",
      "memory usage: 412.9+ KB\n"
     ]
    },
    {
     "data": {
      "text/html": [
       "<div>\n",
       "<style scoped>\n",
       "    .dataframe tbody tr th:only-of-type {\n",
       "        vertical-align: middle;\n",
       "    }\n",
       "\n",
       "    .dataframe tbody tr th {\n",
       "        vertical-align: top;\n",
       "    }\n",
       "\n",
       "    .dataframe thead th {\n",
       "        text-align: right;\n",
       "    }\n",
       "</style>\n",
       "<table border=\"1\" class=\"dataframe\">\n",
       "  <thead>\n",
       "    <tr style=\"text-align: right;\">\n",
       "      <th></th>\n",
       "      <th>Close/Last</th>\n",
       "      <th>Volume</th>\n",
       "      <th>Open</th>\n",
       "      <th>High</th>\n",
       "      <th>Low</th>\n",
       "      <th>Company</th>\n",
       "    </tr>\n",
       "    <tr>\n",
       "      <th>Date</th>\n",
       "      <th></th>\n",
       "      <th></th>\n",
       "      <th></th>\n",
       "      <th></th>\n",
       "      <th></th>\n",
       "      <th></th>\n",
       "    </tr>\n",
       "  </thead>\n",
       "  <tbody>\n",
       "    <tr>\n",
       "      <th>2015-12-16</th>\n",
       "      <td>776.59</td>\n",
       "      <td>2651259</td>\n",
       "      <td>766.57</td>\n",
       "      <td>781.50</td>\n",
       "      <td>757.045</td>\n",
       "      <td>Alphabet</td>\n",
       "    </tr>\n",
       "    <tr>\n",
       "      <th>2015-12-17</th>\n",
       "      <td>769.83</td>\n",
       "      <td>1823211</td>\n",
       "      <td>781.16</td>\n",
       "      <td>781.59</td>\n",
       "      <td>769.300</td>\n",
       "      <td>Alphabet</td>\n",
       "    </tr>\n",
       "    <tr>\n",
       "      <th>2015-12-18</th>\n",
       "      <td>756.85</td>\n",
       "      <td>3374853</td>\n",
       "      <td>767.23</td>\n",
       "      <td>774.14</td>\n",
       "      <td>756.590</td>\n",
       "      <td>Alphabet</td>\n",
       "    </tr>\n",
       "    <tr>\n",
       "      <th>2015-12-21</th>\n",
       "      <td>760.80</td>\n",
       "      <td>1737946</td>\n",
       "      <td>763.05</td>\n",
       "      <td>766.35</td>\n",
       "      <td>754.150</td>\n",
       "      <td>Alphabet</td>\n",
       "    </tr>\n",
       "    <tr>\n",
       "      <th>2015-12-22</th>\n",
       "      <td>767.13</td>\n",
       "      <td>1814253</td>\n",
       "      <td>764.27</td>\n",
       "      <td>770.34</td>\n",
       "      <td>761.200</td>\n",
       "      <td>Alphabet</td>\n",
       "    </tr>\n",
       "  </tbody>\n",
       "</table>\n",
       "</div>"
      ],
      "text/plain": [
       "            Close/Last   Volume    Open    High      Low   Company\n",
       "Date                                                              \n",
       "2015-12-16      776.59  2651259  766.57  781.50  757.045  Alphabet\n",
       "2015-12-17      769.83  1823211  781.16  781.59  769.300  Alphabet\n",
       "2015-12-18      756.85  3374853  767.23  774.14  756.590  Alphabet\n",
       "2015-12-21      760.80  1737946  763.05  766.35  754.150  Alphabet\n",
       "2015-12-22      767.13  1814253  764.27  770.34  761.200  Alphabet"
      ]
     },
     "execution_count": 23,
     "metadata": {},
     "output_type": "execute_result"
    }
   ],
   "source": [
    "df.info()\n",
    "df.head()"
   ]
  },
  {
   "cell_type": "code",
   "execution_count": 24,
   "metadata": {},
   "outputs": [
    {
     "data": {
      "text/html": [
       "<div>\n",
       "<style scoped>\n",
       "    .dataframe tbody tr th:only-of-type {\n",
       "        vertical-align: middle;\n",
       "    }\n",
       "\n",
       "    .dataframe tbody tr th {\n",
       "        vertical-align: top;\n",
       "    }\n",
       "\n",
       "    .dataframe thead th {\n",
       "        text-align: right;\n",
       "    }\n",
       "</style>\n",
       "<table border=\"1\" class=\"dataframe\">\n",
       "  <thead>\n",
       "    <tr style=\"text-align: right;\">\n",
       "      <th></th>\n",
       "      <th>Close/Last</th>\n",
       "      <th>Volume</th>\n",
       "      <th>Open</th>\n",
       "      <th>High</th>\n",
       "      <th>Low</th>\n",
       "    </tr>\n",
       "  </thead>\n",
       "  <tbody>\n",
       "    <tr>\n",
       "      <th>count</th>\n",
       "      <td>7551.000000</td>\n",
       "      <td>7.551000e+03</td>\n",
       "      <td>7551.000000</td>\n",
       "      <td>7551.000000</td>\n",
       "      <td>7551.000000</td>\n",
       "    </tr>\n",
       "    <tr>\n",
       "      <th>mean</th>\n",
       "      <td>509.083231</td>\n",
       "      <td>3.903217e+07</td>\n",
       "      <td>509.058726</td>\n",
       "      <td>514.427697</td>\n",
       "      <td>503.233695</td>\n",
       "    </tr>\n",
       "    <tr>\n",
       "      <th>std</th>\n",
       "      <td>666.505966</td>\n",
       "      <td>5.331818e+07</td>\n",
       "      <td>666.740528</td>\n",
       "      <td>674.020794</td>\n",
       "      <td>658.515123</td>\n",
       "    </tr>\n",
       "    <tr>\n",
       "      <th>min</th>\n",
       "      <td>22.585000</td>\n",
       "      <td>5.211410e+05</td>\n",
       "      <td>22.500000</td>\n",
       "      <td>22.917500</td>\n",
       "      <td>22.367500</td>\n",
       "    </tr>\n",
       "    <tr>\n",
       "      <th>25%</th>\n",
       "      <td>62.063750</td>\n",
       "      <td>3.977700e+06</td>\n",
       "      <td>62.147000</td>\n",
       "      <td>62.945000</td>\n",
       "      <td>61.068500</td>\n",
       "    </tr>\n",
       "    <tr>\n",
       "      <th>50%</th>\n",
       "      <td>150.480000</td>\n",
       "      <td>2.024858e+07</td>\n",
       "      <td>150.740000</td>\n",
       "      <td>152.430000</td>\n",
       "      <td>148.960000</td>\n",
       "    </tr>\n",
       "    <tr>\n",
       "      <th>75%</th>\n",
       "      <td>852.250000</td>\n",
       "      <td>4.401898e+07</td>\n",
       "      <td>851.760000</td>\n",
       "      <td>855.570000</td>\n",
       "      <td>847.512500</td>\n",
       "    </tr>\n",
       "    <tr>\n",
       "      <th>max</th>\n",
       "      <td>3531.450000</td>\n",
       "      <td>5.322360e+08</td>\n",
       "      <td>3547.000000</td>\n",
       "      <td>3552.250000</td>\n",
       "      <td>3486.685000</td>\n",
       "    </tr>\n",
       "  </tbody>\n",
       "</table>\n",
       "</div>"
      ],
      "text/plain": [
       "        Close/Last        Volume         Open         High          Low\n",
       "count  7551.000000  7.551000e+03  7551.000000  7551.000000  7551.000000\n",
       "mean    509.083231  3.903217e+07   509.058726   514.427697   503.233695\n",
       "std     666.505966  5.331818e+07   666.740528   674.020794   658.515123\n",
       "min      22.585000  5.211410e+05    22.500000    22.917500    22.367500\n",
       "25%      62.063750  3.977700e+06    62.147000    62.945000    61.068500\n",
       "50%     150.480000  2.024858e+07   150.740000   152.430000   148.960000\n",
       "75%     852.250000  4.401898e+07   851.760000   855.570000   847.512500\n",
       "max    3531.450000  5.322360e+08  3547.000000  3552.250000  3486.685000"
      ]
     },
     "execution_count": 24,
     "metadata": {},
     "output_type": "execute_result"
    }
   ],
   "source": [
    "# Summary Stats\n",
    "df.describe()"
   ]
  },
  {
   "cell_type": "markdown",
   "metadata": {},
   "source": [
    "# III/ Đặt câu hỏi:\n",
    "- 1. Liệu trình độ học vấn của cha mẹ có quyết định đến thành tích học tập của con ở trường hay không?\n",
    "\n",
    "- 2. Có phải hầu hết học sinh đến từ thành thị? Vậy học sinh thành thị có học tốt hơn học sinh nông thôn hay không?\n",
    "\n",
    "- 3. Yêu đương làm ảnh hưởng đến kết quả học tập?\n",
    "\n",
    "- 4. Tình trạng uống rượu bia theo lứa tuổi của học sinh ở Bồ Đào Nha?\n",
    "\n",
    "- 5. Yếu tố tác động tích cực và tiêu cực đến kết quả học tập?\n"
   ]
  },
  {
   "cell_type": "markdown",
   "metadata": {},
   "source": [
    "---"
   ]
  },
  {
   "cell_type": "markdown",
   "metadata": {},
   "source": [
    "# IV/ Tìm câu trả lời:"
   ]
  },
  {
   "cell_type": "markdown",
   "metadata": {},
   "source": [
    "- **<font color=red> 1. Liệu trình độ học vấn của cha mẹ có quyết định đến thành tích học tập của con ở trường hay không? </font>**"
   ]
  },
  {
   "cell_type": "markdown",
   "metadata": {},
   "source": [
    "Để giải quyết câu hỏi này, ta cần quan tâm đến 3 cột thuộc tính **Medu**, **Fedu** và **Grade**. \n",
    "\n",
    "Tạo hàm <font color=blue> percent_family_edu </font>(data) với đầu vào là data đang xét, xuất một Series với Index là học vấn của cha mẹ và Values là phần trăm có con đạt điểm A."
   ]
  },
  {
   "cell_type": "code",
   "execution_count": 25,
   "metadata": {},
   "outputs": [
    {
     "data": {
      "text/html": [
       "<div>\n",
       "<style scoped>\n",
       "    .dataframe tbody tr th:only-of-type {\n",
       "        vertical-align: middle;\n",
       "    }\n",
       "\n",
       "    .dataframe tbody tr th {\n",
       "        vertical-align: top;\n",
       "    }\n",
       "\n",
       "    .dataframe thead th {\n",
       "        text-align: right;\n",
       "    }\n",
       "</style>\n",
       "<table border=\"1\" class=\"dataframe\">\n",
       "  <thead>\n",
       "    <tr style=\"text-align: right;\">\n",
       "      <th></th>\n",
       "      <th>Close/Last</th>\n",
       "      <th>Volume</th>\n",
       "      <th>Open</th>\n",
       "      <th>High</th>\n",
       "      <th>Low</th>\n",
       "      <th>Company</th>\n",
       "    </tr>\n",
       "    <tr>\n",
       "      <th>Date</th>\n",
       "      <th></th>\n",
       "      <th></th>\n",
       "      <th></th>\n",
       "      <th></th>\n",
       "      <th></th>\n",
       "      <th></th>\n",
       "    </tr>\n",
       "  </thead>\n",
       "  <tbody>\n",
       "    <tr>\n",
       "      <th>2015-12-17</th>\n",
       "      <td>670.65</td>\n",
       "      <td>3672133</td>\n",
       "      <td>680.00</td>\n",
       "      <td>682.5000</td>\n",
       "      <td>670.65</td>\n",
       "      <td>Amazon</td>\n",
       "    </tr>\n",
       "    <tr>\n",
       "      <th>2015-12-18</th>\n",
       "      <td>664.14</td>\n",
       "      <td>6817065</td>\n",
       "      <td>668.65</td>\n",
       "      <td>676.8400</td>\n",
       "      <td>664.13</td>\n",
       "      <td>Amazon</td>\n",
       "    </tr>\n",
       "    <tr>\n",
       "      <th>2015-12-21</th>\n",
       "      <td>664.51</td>\n",
       "      <td>3219507</td>\n",
       "      <td>668.50</td>\n",
       "      <td>669.9000</td>\n",
       "      <td>658.93</td>\n",
       "      <td>Amazon</td>\n",
       "    </tr>\n",
       "    <tr>\n",
       "      <th>2015-12-22</th>\n",
       "      <td>663.15</td>\n",
       "      <td>2666245</td>\n",
       "      <td>666.83</td>\n",
       "      <td>668.4900</td>\n",
       "      <td>659.26</td>\n",
       "      <td>Amazon</td>\n",
       "    </tr>\n",
       "    <tr>\n",
       "      <th>2015-12-23</th>\n",
       "      <td>663.70</td>\n",
       "      <td>2717739</td>\n",
       "      <td>666.50</td>\n",
       "      <td>666.5970</td>\n",
       "      <td>656.63</td>\n",
       "      <td>Amazon</td>\n",
       "    </tr>\n",
       "    <tr>\n",
       "      <th>...</th>\n",
       "      <td>...</td>\n",
       "      <td>...</td>\n",
       "      <td>...</td>\n",
       "      <td>...</td>\n",
       "      <td>...</td>\n",
       "      <td>...</td>\n",
       "    </tr>\n",
       "    <tr>\n",
       "      <th>2020-12-09</th>\n",
       "      <td>3104.20</td>\n",
       "      <td>4100836</td>\n",
       "      <td>3167.89</td>\n",
       "      <td>3174.4300</td>\n",
       "      <td>3088.00</td>\n",
       "      <td>Amazon</td>\n",
       "    </tr>\n",
       "    <tr>\n",
       "      <th>2020-12-10</th>\n",
       "      <td>3101.49</td>\n",
       "      <td>3030186</td>\n",
       "      <td>3088.99</td>\n",
       "      <td>3142.1000</td>\n",
       "      <td>3076.00</td>\n",
       "      <td>Amazon</td>\n",
       "    </tr>\n",
       "    <tr>\n",
       "      <th>2020-12-11</th>\n",
       "      <td>3116.42</td>\n",
       "      <td>3064695</td>\n",
       "      <td>3096.66</td>\n",
       "      <td>3118.6700</td>\n",
       "      <td>3072.82</td>\n",
       "      <td>Amazon</td>\n",
       "    </tr>\n",
       "    <tr>\n",
       "      <th>2020-12-14</th>\n",
       "      <td>3156.97</td>\n",
       "      <td>4155794</td>\n",
       "      <td>3143.00</td>\n",
       "      <td>3190.4700</td>\n",
       "      <td>3126.00</td>\n",
       "      <td>Amazon</td>\n",
       "    </tr>\n",
       "    <tr>\n",
       "      <th>2020-12-15</th>\n",
       "      <td>3165.12</td>\n",
       "      <td>3323686</td>\n",
       "      <td>3181.01</td>\n",
       "      <td>3188.4999</td>\n",
       "      <td>3130.49</td>\n",
       "      <td>Amazon</td>\n",
       "    </tr>\n",
       "  </tbody>\n",
       "</table>\n",
       "<p>1258 rows × 6 columns</p>\n",
       "</div>"
      ],
      "text/plain": [
       "            Close/Last   Volume     Open       High      Low Company\n",
       "Date                                                                \n",
       "2015-12-17      670.65  3672133   680.00   682.5000   670.65  Amazon\n",
       "2015-12-18      664.14  6817065   668.65   676.8400   664.13  Amazon\n",
       "2015-12-21      664.51  3219507   668.50   669.9000   658.93  Amazon\n",
       "2015-12-22      663.15  2666245   666.83   668.4900   659.26  Amazon\n",
       "2015-12-23      663.70  2717739   666.50   666.5970   656.63  Amazon\n",
       "...                ...      ...      ...        ...      ...     ...\n",
       "2020-12-09     3104.20  4100836  3167.89  3174.4300  3088.00  Amazon\n",
       "2020-12-10     3101.49  3030186  3088.99  3142.1000  3076.00  Amazon\n",
       "2020-12-11     3116.42  3064695  3096.66  3118.6700  3072.82  Amazon\n",
       "2020-12-14     3156.97  4155794  3143.00  3190.4700  3126.00  Amazon\n",
       "2020-12-15     3165.12  3323686  3181.01  3188.4999  3130.49  Amazon\n",
       "\n",
       "[1258 rows x 6 columns]"
      ]
     },
     "execution_count": 25,
     "metadata": {},
     "output_type": "execute_result"
    }
   ],
   "source": [
    "df[df['Company'] == 'Amazon']"
   ]
  },
  {
   "cell_type": "code",
   "execution_count": 26,
   "metadata": {},
   "outputs": [
    {
     "data": {
      "image/png": "[encoded data removed]",
      "text/plain": [
       "<Figure size 1440x720 with 6 Axes>"
      ]
     },
     "metadata": {
      "needs_background": "light"
     },
     "output_type": "display_data"
    }
   ],
   "source": [
    "plt.figure(figsize=(20, 10))\n",
    "plt.subplots_adjust(top=1.25, bottom=1.2)\n",
    "for i, company in enumerate(company_name, 1):\n",
    "    plt.subplot(2, 3, i)\n",
    "    df[df['Company'] == company]['Close/Last'].plot(linewidth=2.0)\n",
    "    plt.ylabel('Close/Last')\n",
    "    plt.xlabel(None)\n",
    "    plt.title(f\"{company_name[i - 1]}\")"
   ]
  },
  {
   "cell_type": "markdown",
   "metadata": {},
   "source": [
    "\\- Trực quan kết quả bằng biểu đồ cột:"
   ]
  },
  {
   "cell_type": "code",
   "execution_count": 11,
   "metadata": {},
   "outputs": [
    {
     "ename": "NameError",
     "evalue": "name 'percent_family_edu' is not defined",
     "output_type": "error",
     "traceback": [
      "\u001b[1;31m---------------------------------------------------------------------------\u001b[0m",
      "\u001b[1;31mNameError\u001b[0m                                 Traceback (most recent call last)",
      "\u001b[1;32m<ipython-input-11-731ab77810f1>\u001b[0m in \u001b[0;36m<module>\u001b[1;34m\u001b[0m\n\u001b[0;32m      1\u001b[0m \u001b[1;31m#df_1: Series đã xử lý\u001b[0m\u001b[1;33m\u001b[0m\u001b[1;33m\u001b[0m\u001b[1;33m\u001b[0m\u001b[0m\n\u001b[1;32m----> 2\u001b[1;33m \u001b[0mdf_1\u001b[0m \u001b[1;33m=\u001b[0m  \u001b[0mpercent_family_edu\u001b[0m\u001b[1;33m(\u001b[0m\u001b[0mdf_s\u001b[0m\u001b[1;33m.\u001b[0m\u001b[0mcopy\u001b[0m\u001b[1;33m(\u001b[0m\u001b[1;33m)\u001b[0m\u001b[1;33m)\u001b[0m\u001b[1;33m\u001b[0m\u001b[1;33m\u001b[0m\u001b[0m\n\u001b[0m\u001b[0;32m      3\u001b[0m \u001b[1;33m\u001b[0m\u001b[0m\n\u001b[0;32m      4\u001b[0m \u001b[1;31m#Trực quan kết quả\u001b[0m\u001b[1;33m\u001b[0m\u001b[1;33m\u001b[0m\u001b[1;33m\u001b[0m\u001b[0m\n\u001b[0;32m      5\u001b[0m \u001b[0msns\u001b[0m\u001b[1;33m.\u001b[0m\u001b[0mset\u001b[0m\u001b[1;33m(\u001b[0m\u001b[0mrc\u001b[0m\u001b[1;33m=\u001b[0m\u001b[1;33m{\u001b[0m\u001b[1;34m'figure.figsize'\u001b[0m\u001b[1;33m:\u001b[0m\u001b[1;33m(\u001b[0m\u001b[1;36m12\u001b[0m\u001b[1;33m,\u001b[0m\u001b[1;36m8\u001b[0m\u001b[1;33m)\u001b[0m\u001b[1;33m}\u001b[0m\u001b[1;33m)\u001b[0m\u001b[1;33m\u001b[0m\u001b[1;33m\u001b[0m\u001b[0m\n",
      "\u001b[1;31mNameError\u001b[0m: name 'percent_family_edu' is not defined"
     ]
    }
   ],
   "source": [
    "#df_1: Series đã xử lý\n",
    "df_1 =  percent_family_edu(df_s.copy())\n",
    "\n",
    "#Trực quan kết quả\n",
    "sns.set(rc={'figure.figsize':(12,8)})\n",
    "fig = plt.figure()\n",
    "ax = fig.add_subplot(111)\n",
    "ax.set_ylabel('% gia đình có con đạt A', fontsize='large')\n",
    "ax.set_xlabel('Trình độ học vấn bố và mẹ', fontsize='large')\n",
    "ax.bar(df_1.index, df_1.values, fill='black', color=\"#2ecc71\", edgecolor=['black'])\n",
    "df_1"
   ]
  },
  {
   "cell_type": "markdown",
   "metadata": {},
   "source": [
    "**Kết luận:** Dựa vào biểu đồ trên, ta thấy biểu đồ có xu hướng tăng dần qua các mốc học vấn của cha mẹ, có thể nói cha mẹ càng có học vấn cao thì con của họ càng giỏi. Kết quả này thu được có thể do gen di truyền từ bố mẹ và môi trường học tập mà con cái nhận được sự quan tâm, chỉ bảo từ gia đình. "
   ]
  },
  {
   "cell_type": "markdown",
   "metadata": {},
   "source": [
    "---"
   ]
  },
  {
   "cell_type": "markdown",
   "metadata": {},
   "source": [
    "---"
   ]
  },
  {
   "cell_type": "markdown",
   "metadata": {},
   "source": [
    "- **<font color=red> 2. Có phải hầu hết học sinh đến từ thành thị? Vậy học sinh thành thị có học tốt hơn học sinh nông thôn hay không? </font>**"
   ]
  },
  {
   "cell_type": "markdown",
   "metadata": {},
   "source": [
    "Để kiểm chứng, đầu tiên ta đưa ra dẫn chứng về số học sinh ở thành thị và số học sinh ở nông thôn:"
   ]
  },
  {
   "cell_type": "code",
   "execution_count": null,
   "metadata": {
    "scrolled": false
   },
   "outputs": [],
   "source": [
    "sns.set(rc={'figure.figsize':(12,8)})\n",
    "c_2 = sns.countplot(df_s['address'])\n",
    "c_2.axes.set_title('Học sinh thành thị và nông thôn', fontsize = 24)\n",
    "c_2.set_xlabel('Nơi ở', fontsize = 20)\n",
    "c_2.set_ylabel('Tổng số', fontsize = 20)\n",
    "plt.show()"
   ]
  },
  {
   "cell_type": "markdown",
   "metadata": {},
   "source": [
    "\\- Lấy ra cột điểm trung bình của các học sinh đến từ thành thị (df_u) và nông thôn (df_r)"
   ]
  },
  {
   "cell_type": "code",
   "execution_count": null,
   "metadata": {},
   "outputs": [],
   "source": [
    "df_u = df_s.loc[df_s['address'] == 'U', 'G_avg']\n",
    "mean_u = df_u.mean()\n",
    "df_r = df_s.loc[df_s['address'] == 'R', 'G_avg']\n",
    "mean_r = df_r.median()\n",
    "\n",
    "print(\"Mean Urban = {}, Mean Rural = {}\".format(mean_u, mean_r))"
   ]
  },
  {
   "cell_type": "markdown",
   "metadata": {},
   "source": [
    "\\- Trực quan kết quả bằng biểu đồ:"
   ]
  },
  {
   "cell_type": "code",
   "execution_count": null,
   "metadata": {
    "scrolled": false
   },
   "outputs": [],
   "source": [
    "sns.set(rc={'figure.figsize':(12,8)})\n",
    "sns.kdeplot(df_u, label='Urban', shade = True)\n",
    "sns.kdeplot(df_r, label='Rural', shade = True)\n",
    "\n",
    "plt.axvline(mean_u, color='r', linestyle='-')\n",
    "plt.axvline(mean_r, color='g', linestyle='-')\n",
    "\n",
    "plt.legend({'Urban':df_u,'Rural': df_r ,'Mean Urban':mean_u,'Mean Rural':mean_r})\n",
    "plt.title('Điểm G3 học sinh thành thị - nông thôn', fontsize = 20)\n",
    "plt.xlabel('Điểm', fontsize = 20);\n",
    "plt.ylabel('Tỉ lệ', fontsize = 20)\n",
    "plt.show()"
   ]
  },
  {
   "cell_type": "markdown",
   "metadata": {},
   "source": [
    "**Kết luận:** Nhìn vào biểu đồ, ta thấy học lực giữa thành thị và nông thôn có sự chênh lệch. Học sinh thành thị nhỉnh hơn từ mức điểm B trở lên ($>10$), thể hiện rõ ở mức điểm 15, và số điểm dưới 10 chiếm tỉ lệ thấp hơn (đường xanh nằm dưới đường cam). Nếu nhìn vào 2 vạch chỉ mức điểm trung bình thì luận điểm trên lại càng được cũng cố. Vì điều kiện học tập ở mỗi nơi là khác nhau nên chênh lệch là khó tránh khỏi, do đó, chính quyền cần chú trọng hơn vào giáo dục ở nông thôn, những vùng kém phát triển. "
   ]
  },
  {
   "cell_type": "markdown",
   "metadata": {},
   "source": [
    "---"
   ]
  },
  {
   "cell_type": "markdown",
   "metadata": {},
   "source": [
    "- **<font color=red> 3.Yêu đương làm ảnh hưởng đến kết quả học tập? </font>**"
   ]
  },
  {
   "cell_type": "markdown",
   "metadata": {},
   "source": [
    "Để giải quyết câu hỏi này, ta cần quan tâm đến 3 cột thuộc tính **romantic** và **G3** -  kết quả học kỳ 3. "
   ]
  },
  {
   "cell_type": "code",
   "execution_count": null,
   "metadata": {},
   "outputs": [],
   "source": [
    "#Lấy series của cột romatic\n",
    "df_3 = df_s['romantic'].copy().value_counts()\n",
    "\n",
    "#Trực quan %\n",
    "plt.figure(figsize=(12,8))\n",
    "plt.axis('equal');\n",
    "# colors = ['#008fd5', '#fc4f30']\n",
    "colors = ['#008fd5', '#fc6f30']\n",
    "plt.pie(df_3, startangle=90, colors=colors, wedgeprops={'edgecolor': 'black'}, \n",
    "        explode = (0, 0.1), autopct='%1.f%%',shadow=True);\n",
    "plt.legend(loc='best', labels=df_3.index, fontsize='medium')\n",
    "plt.show()"
   ]
  },
  {
   "cell_type": "markdown",
   "metadata": {},
   "source": [
    "\\- Tạm gọi nhóm các học sinh có quan hệ yêu đương là nhóm cam và nhóm các học sinh còn lại là nhóm xanh. Ta thấy có tới 1/3 số học sinh đang trong quan hệ yêu đương (nhóm màu cam)... Vậy cần so sánh mức điểm của nhóm này với các học sinh còn lại xem sao: "
   ]
  },
  {
   "cell_type": "code",
   "execution_count": null,
   "metadata": {
    "scrolled": false
   },
   "outputs": [],
   "source": [
    "b = sns.swarmplot(x=df_s['romantic'],y=df_s['G3'])\n",
    "b.axes.set_title('Tình trạng yêu đương và kết quả học tập', fontsize = 22)\n",
    "b.set_xlabel('Tình trạng quan hệ', fontsize = 20)\n",
    "b.set_ylabel('Điểm học tập', fontsize = 20)\n",
    "plt.show()"
   ]
  },
  {
   "cell_type": "markdown",
   "metadata": {},
   "source": [
    "**Kết luận:** Qua biểu đồ trên, ta thấy số học sinh đạt điểm cao ở nhóm cam khá ít. So về tỉ lệ đối với nhóm xanh thì thực sự rất thấp. Đặc biệt số điểm 0 của nhóm cam lại nhiều hơn nhóm xanh, tình trạng này thực sự rất tệ không chỉ với riêng nhóm cam mà còn cả với nhóm xanh. \n",
    "\n",
    "Do đó, yêu đương có thể ảnh hưởng tiêu cực đến việc học. Nhà trường cần kiểm soát tốt hơn về vấn đề này để học sinh không sao nhãng việc học."
   ]
  },
  {
   "cell_type": "markdown",
   "metadata": {},
   "source": [
    "---"
   ]
  },
  {
   "cell_type": "markdown",
   "metadata": {},
   "source": [
    "- **<font color=red> 4. Tình trạng uống rượu bia theo lứa tuổi của học sinh ở Bồ Đào Nha? </font>**"
   ]
  },
  {
   "cell_type": "markdown",
   "metadata": {},
   "source": [
    "Để giải quyết câu hỏi này, ta cần quan tâm đến 2 cột thuộc tính **Dalc** và **age**. \n",
    "\n",
    "\\- Đầu tiên ta rút ra số lượng của các nhãn rời rạc trong cột **Dalc** dưới dạng Series. "
   ]
  },
  {
   "cell_type": "code",
   "execution_count": null,
   "metadata": {},
   "outputs": [],
   "source": [
    "#Lấy series của cột Dalc\n",
    "se_dalc = df_s['Dalc'].copy().value_counts()\n",
    "print(\"Thống kê số lượng của các nhãn rời rạc trong cột Dalc\\n\")\n",
    "se_dalc"
   ]
  },
  {
   "cell_type": "markdown",
   "metadata": {},
   "source": [
    "\\- Sau đó trực quan bằng Pie Chart như sau:"
   ]
  },
  {
   "cell_type": "code",
   "execution_count": null,
   "metadata": {},
   "outputs": [],
   "source": [
    "#Trực quan %\n",
    "plt.figure(figsize=(12,8))\n",
    "plt.axis('equal')\n",
    "\n",
    "colors = [\"#9b59b6\", \"#3498db\", \"#95a5a6\", \"#e74c3c\", \"#34495e\"]\n",
    "plt.pie(se_dalc, startangle=90, colors=colors, wedgeprops={'edgecolor': 'black'}, \n",
    "        explode = (0, 0.1,0.1,0.1,0.1), autopct='%1.f%%',shadow=True);\n",
    "plt.legend(loc='best', labels=se_dalc.index, fontsize='medium')\n",
    "plt.show()"
   ]
  },
  {
   "cell_type": "markdown",
   "metadata": {},
   "source": [
    "\\- Qua số liệu của cột **Dalc** thì mức dộ sử dụng rượu/bia được đánh giá theo thang từ 1 - *rất ít*, đến 5 - *rất nhiều*. Do đó ta đặt mức lớn hơn 1 (**Dalc** $\\ge$ 2) làm mốc đánh giá là có sử dụng rượu/bia. Tạo bảng dữ liệu gồm 2 cột **age** và **Dalc** vừa lọc ra ở trên.\n"
   ]
  },
  {
   "cell_type": "code",
   "execution_count": null,
   "metadata": {
    "scrolled": false
   },
   "outputs": [],
   "source": [
    "df_4 = df_s[df_s['Dalc'] > 1]\n",
    "df_4 = df_4[['age','Dalc']]\n",
    "df_4.head()"
   ]
  },
  {
   "cell_type": "markdown",
   "metadata": {},
   "source": [
    "\\-  Tiếp đến, ta cần đưa ra số liệu thống kê về số học sinh sử dụng rượu/bia theo độ tuổi bằng cách xây dựng hàm <font color=blue> count_age_acl </font>. Với đầu vào là DataFrame đang xét (df_4) và Series của cột **age**. "
   ]
  },
  {
   "cell_type": "code",
   "execution_count": null,
   "metadata": {},
   "outputs": [],
   "source": [
    "def count_age_acl(dataframe, series):\n",
    "    #Sắp xếp lại giá trị index của series theo chiều tăng của tuổi.\n",
    "    series.sort_index(inplace = True)\n",
    "    \n",
    "    #Danh sách các số đếm của từng độ tuổi.\n",
    "    acl_list = []\n",
    "    num = 0\n",
    "    for i in series.index:\n",
    "        num = len(dataframe[dataframe['age'] == i])\n",
    "        acl_list.append(num)\n",
    "    series.replace(series.values, acl_list, inplace = True)\n",
    "    return series"
   ]
  },
  {
   "cell_type": "markdown",
   "metadata": {},
   "source": [
    "\\- Kết quả trả về một Series có Index là độ tuổi và Value là số học sinh sử dụng rượu/bia."
   ]
  },
  {
   "cell_type": "code",
   "execution_count": null,
   "metadata": {},
   "outputs": [],
   "source": [
    "se_age = df_s.copy()['age'].value_counts()\n",
    "se_age = count_age_acl(df_4, se_age)\n",
    "se_age"
   ]
  },
  {
   "cell_type": "markdown",
   "metadata": {},
   "source": [
    "\\- Trực quan dưới dạng biểu đồ đường:"
   ]
  },
  {
   "cell_type": "code",
   "execution_count": null,
   "metadata": {
    "scrolled": false
   },
   "outputs": [],
   "source": [
    "# plt.figure(figsize=(10,7))\n",
    "title = \"Số học sinh sử dụng rượu/bia theo độ tuổi\"\n",
    "se_age.plot(kind = 'line', marker='o', title = title, grid = True, legend = True, colormap = 'Reds_r')\n",
    "plt.ylabel('Số học sinh');"
   ]
  },
  {
   "cell_type": "markdown",
   "metadata": {},
   "source": [
    "**Kết luận:** Nhìn vào biểu đồ, ta thấy mức độ sử dụng rượu bia ở các lứa tuổi khá chênh nhau. Lứa tuổi từ 15-18 sử dụng rượu bia rất nhiều, nhất là những học sinh 17 tuổi. Theo như mình tìm hiểu thì độ tuổi được phép uống rượu/bia ở Bồ Đào Nha là 16 đối với loại nhẹ và 18 đối với loại rượu nặng (tham khảo [ở đây](https://www.apyn.org/triangle-portugal#:~:text=There%20are%20now%20two%20legal,of%20alcoholic%20beverages%20(spirits).) \\), nên thống kê trên là đáng báo động vì ở độ tuổi 15, các bạn đã tiêu thụ rượu khá nhiều... Mức tiêu thụ này giảm dần từ lứa tuổi 19 trở đi, dù độ tuổi này việc sử dụng chất có cồn đã được hợp pháp hóa."
   ]
  },
  {
   "cell_type": "markdown",
   "metadata": {},
   "source": [
    "---"
   ]
  },
  {
   "cell_type": "markdown",
   "metadata": {},
   "source": [
    "- **<font color=red> 2. Yếu tố tác động tích cực và tiêu cực đến kết quả học tập? </font>**"
   ]
  },
  {
   "cell_type": "markdown",
   "metadata": {},
   "source": [
    "Sử dụng mô hình học máy (cụ thể là Linear Regression) rút ra những trọng số mà ta cần, dựa vào đó để đánh giá các tác động của thuộc tính đến kết quả bài kiểm tra cuối kỳ G3.\n",
    "\n",
    "<ins> *Chú thích: </ins> Phương pháp Linear Regression (Hồi quy tuyến tính) áp dụng cho loại mô hình tuyến tính với các trọng\n",
    "số w = (w1,…, wp) và các mục tiêu được dự đoán bằng phép gần đúng tuyến tính.  \n",
    "\n",
    "<ins> Ví dụ: </ins>: Bạn có mục tập thuộc tính bất kỳ X = [$a_1, a_2, a_3$] và tập kết quả tương tứng y = [$b_1$]. Nhiệm vụ của Linear Regression là tìm các trọng số  $w$ = ($w_0, w_1, w_2, w_3$) sao cho:\n",
    "\n",
    "$$ w_0 + w_1a_1 + w_2a_2 + w_3a_3 \\approx b_1$$"
   ]
  },
  {
   "cell_type": "markdown",
   "metadata": {},
   "source": [
    "\\- Lọc ra các cột chứa kiểu dữ liệu int:"
   ]
  },
  {
   "cell_type": "code",
   "execution_count": null,
   "metadata": {
    "scrolled": true
   },
   "outputs": [],
   "source": [
    "df_5 = df_s.copy().select_dtypes('int64')\n",
    "df_5.head()"
   ]
  },
  {
   "cell_type": "markdown",
   "metadata": {},
   "source": [
    "\\- Chọn những cột thuộc tính mà ta quan tâm: "
   ]
  },
  {
   "cell_type": "code",
   "execution_count": null,
   "metadata": {
    "scrolled": true
   },
   "outputs": [],
   "source": [
    "df_5 = df_5[['famrel', 'studytime', 'failures', 'absences', 'G1', 'G2','G3']]\n",
    "# sklearn needs numpy array's as inputs\n",
    "X = np.array(df_5.drop('G3', axis=1))\n",
    "y = np.array(df_5['G3'])\n",
    "\n",
    "df_5.head()"
   ]
  },
  {
   "cell_type": "markdown",
   "metadata": {},
   "source": [
    "\\- Phân tách các tập dữ liệu huấn luyện (X_train, y_train) và tập dữ liệu test (X_test, y_test) từ tập X, y phía trên."
   ]
  },
  {
   "cell_type": "code",
   "execution_count": null,
   "metadata": {},
   "outputs": [],
   "source": [
    "X_train, X_test, y_train, y_test = train_test_split(X, y, test_size=0.8, random_state=42)"
   ]
  },
  {
   "cell_type": "markdown",
   "metadata": {},
   "source": [
    "\\- Bắt đầu quá trình huấn luyện: "
   ]
  },
  {
   "cell_type": "code",
   "execution_count": null,
   "metadata": {},
   "outputs": [],
   "source": [
    "linear = LinearRegression()\n",
    "linear.fit(X_train, y_train)"
   ]
  },
  {
   "cell_type": "code",
   "execution_count": null,
   "metadata": {},
   "outputs": [],
   "source": [
    "#Xuất thông tin về độ hiệu quả của thuật toán:\n",
    "print(\"Độ chính xác: \", linear.score(X_test, y_test))\n",
    "coeff = linear.coef_\n",
    "\n",
    "#Xuất kết giá trị các trọng số:\n",
    "for i in range(len(coeff)):\n",
    "    print(df_5.columns[i], ': ', coeff[i])"
   ]
  },
  {
   "cell_type": "markdown",
   "metadata": {},
   "source": [
    "**Kết luận:** Ta đưa ra nhận xét dựa vào hững thuộc tính cho ra kết quả dương (tích cực) và âm (tiêu cực):\n",
    "\n",
    "Dễ thấy điểm thi ở đợt kiểm tra cuối (**G3**) chịu tác động tích cực từ mức độ hạnh phúc của gia đình (**famrel**), kết quả thi đợt 1 (**G1**) và kết quả thi đợt 2 (**G3**). Nghĩa là nếu những yếu tố này càng cao thì có thể kết quả thi **G3** càng tốt. Ví dụ 1 học sinh có thể cố gắng hơn nếu điểm **G1** và **G2** của học sinh đó chưa đạt được như nguyện vọng. \n",
    "\n",
    "Yếu tố tiêu cực **failures** (số lỗi vi phạm) là điều dễ hiểu vì chỉ số này ít khi xuất hiện ở 1 học sinh học lực tốt. Nhưng điều lạ ở đây là thuộc tính **studytime** (thời gian học tập) lại là tiêu cực... kết quả này đi ngược với suy nghĩ \"học càng nhiều thì càng tốt\", nó đúng hơn với câu \"học quá nhiều chưa hẳn là tốt\"."
   ]
  },
  {
   "cell_type": "markdown",
   "metadata": {},
   "source": [
    "---"
   ]
  },
  {
   "cell_type": "markdown",
   "metadata": {},
   "source": [
    "# V/ Nhìn lại quá trình làm đồ án:\n"
   ]
  },
  {
   "cell_type": "markdown",
   "metadata": {},
   "source": [
    "Qua quá trình làm đồ án, mình rút ra một số ý:\n",
    "\n",
    "> **Thuận lợi**:\n",
    "- Dữ liệu sạch và không cần tiền xử lý nhiều.\n",
    "- Kích thước dữ liệu nhỏ nên việc chạy code khá nhanh.\n",
    "- Dữ liệu đa dạng thuộc tính nên có nhiều lựa chọn cách triển khai.\n",
    "\n",
    "> **Khó khăn**:\n",
    "- Do dữ liệu có đến 33 cột thuộc tính nên chưa khai thác hết được.\n",
    "- Kích thước dữ liệu nhỏ nên chưa đảm bảo tính chính xác khi áp dụng học máy để dự đoán.\n",
    "\n",
    "Từ việc phân tích tập dữ liệu trên, mình có thể đánh giá các yếu tố ảnh hưởng đến kết quả học tập cảu một học sinh. Từ đó rút ra kinh nghiệm cho bản thân để tránh những yếu tố tiêu cực và phát huy những mặt tích cực, cải thiện thành tích. Giúp mình nhận thấy các tác động từ gia đình, xã hội cũng một phần quyết định đến kết quả học tập. \n",
    "\n",
    "Nếu có nhiều thời gian hơn, mình sẽ tận dụng triệt để các thuộc tính còn lại nhằm cũng cố những suy luận phía trên. "
   ]
  },
  {
   "cell_type": "markdown",
   "metadata": {},
   "source": [
    "# VI/ Tài liệu tham khảo:"
   ]
  },
  {
   "cell_type": "markdown",
   "metadata": {},
   "source": [
    "Các bài đóng góp trên : [Notebooks](https://www.kaggle.com/dipam7/student-grade-prediction/notebooks)"
   ]
  }
 ],
 "metadata": {
  "kernelspec": {
   "display_name": "Python 3",
   "language": "python",
   "name": "python3"
  },
  "language_info": {
   "codemirror_mode": {
    "name": "ipython",
    "version": 3
   },
   "file_extension": ".py",
   "mimetype": "text/x-python",
   "name": "python",
   "nbconvert_exporter": "python",
   "pygments_lexer": "ipython3",
   "version": "3.7.6"
  }
 },
 "nbformat": 4,
 "nbformat_minor": 4
}
